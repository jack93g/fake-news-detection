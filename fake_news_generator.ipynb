{
 "cells": [
  {
   "cell_type": "code",
   "execution_count": 1,
   "metadata": {},
   "outputs": [
    {
     "name": "stdout",
     "output_type": "stream",
     "text": [
      "Collecting tensorflow\n",
      "  Using cached tensorflow-2.7.0-cp38-cp38-macosx_10_11_x86_64.whl (207.1 MB)\n",
      "Collecting protobuf>=3.9.2\n",
      "  Using cached protobuf-3.19.1-cp38-cp38-macosx_10_9_x86_64.whl (1.0 MB)\n",
      "Collecting libclang>=9.0.1\n",
      "  Using cached libclang-12.0.0-py2.py3-none-macosx_10_9_x86_64.whl (12.2 MB)\n",
      "Collecting keras<2.8,>=2.7.0rc0\n",
      "  Using cached keras-2.7.0-py2.py3-none-any.whl (1.3 MB)\n",
      "Requirement already satisfied: wrapt>=1.11.0 in /Users/jackgibbons/opt/anaconda3/lib/python3.8/site-packages (from tensorflow) (1.12.1)\n",
      "Collecting tensorflow-io-gcs-filesystem>=0.21.0\n",
      "  Using cached tensorflow_io_gcs_filesystem-0.22.0-cp38-cp38-macosx_10_14_x86_64.whl (1.6 MB)\n",
      "Requirement already satisfied: six>=1.12.0 in /Users/jackgibbons/opt/anaconda3/lib/python3.8/site-packages (from tensorflow) (1.15.0)\n",
      "Collecting tensorflow-estimator<2.8,~=2.7.0rc0\n",
      "  Using cached tensorflow_estimator-2.7.0-py2.py3-none-any.whl (463 kB)\n",
      "Collecting gast<0.5.0,>=0.2.1\n",
      "  Using cached gast-0.4.0-py3-none-any.whl (9.8 kB)\n",
      "Collecting tensorboard~=2.6\n",
      "  Using cached tensorboard-2.7.0-py3-none-any.whl (5.8 MB)\n",
      "Collecting astunparse>=1.6.0\n",
      "  Using cached astunparse-1.6.3-py2.py3-none-any.whl (12 kB)\n",
      "Collecting grpcio<2.0,>=1.24.3\n",
      "  Using cached grpcio-1.41.1-cp38-cp38-macosx_10_10_x86_64.whl (3.9 MB)\n",
      "Requirement already satisfied: numpy>=1.14.5 in /Users/jackgibbons/opt/anaconda3/lib/python3.8/site-packages (from tensorflow) (1.20.1)\n",
      "Collecting termcolor>=1.1.0\n",
      "  Using cached termcolor-1.1.0-py3-none-any.whl\n",
      "Collecting google-pasta>=0.1.1\n",
      "  Using cached google_pasta-0.2.0-py3-none-any.whl (57 kB)\n",
      "Requirement already satisfied: h5py>=2.9.0 in /Users/jackgibbons/opt/anaconda3/lib/python3.8/site-packages (from tensorflow) (2.10.0)\n",
      "Requirement already satisfied: typing-extensions>=3.6.6 in /Users/jackgibbons/opt/anaconda3/lib/python3.8/site-packages (from tensorflow) (3.7.4.3)\n",
      "Collecting absl-py>=0.4.0\n",
      "  Using cached absl_py-1.0.0-py3-none-any.whl (126 kB)\n",
      "Collecting keras-preprocessing>=1.1.1\n",
      "  Using cached Keras_Preprocessing-1.1.2-py2.py3-none-any.whl (42 kB)\n",
      "Collecting opt-einsum>=2.3.2\n",
      "  Using cached opt_einsum-3.3.0-py3-none-any.whl (65 kB)\n",
      "Collecting flatbuffers<3.0,>=1.12\n",
      "  Using cached flatbuffers-2.0-py2.py3-none-any.whl (26 kB)\n",
      "Requirement already satisfied: wheel<1.0,>=0.32.0 in /Users/jackgibbons/opt/anaconda3/lib/python3.8/site-packages (from tensorflow) (0.36.2)\n",
      "Requirement already satisfied: requests<3,>=2.21.0 in /Users/jackgibbons/opt/anaconda3/lib/python3.8/site-packages (from tensorboard~=2.6->tensorflow) (2.25.1)\n",
      "Collecting tensorboard-data-server<0.7.0,>=0.6.0\n",
      "  Using cached tensorboard_data_server-0.6.1-py3-none-macosx_10_9_x86_64.whl (3.5 MB)\n",
      "Collecting google-auth<3,>=1.6.3\n",
      "  Using cached google_auth-2.3.3-py2.py3-none-any.whl (155 kB)\n",
      "Collecting tensorboard-plugin-wit>=1.6.0\n",
      "  Using cached tensorboard_plugin_wit-1.8.0-py3-none-any.whl (781 kB)\n",
      "Requirement already satisfied: werkzeug>=0.11.15 in /Users/jackgibbons/opt/anaconda3/lib/python3.8/site-packages (from tensorboard~=2.6->tensorflow) (1.0.1)\n",
      "Requirement already satisfied: setuptools>=41.0.0 in /Users/jackgibbons/opt/anaconda3/lib/python3.8/site-packages (from tensorboard~=2.6->tensorflow) (52.0.0.post20210125)\n",
      "Collecting google-auth-oauthlib<0.5,>=0.4.1\n",
      "  Using cached google_auth_oauthlib-0.4.6-py2.py3-none-any.whl (18 kB)\n",
      "Collecting markdown>=2.6.8\n",
      "  Using cached Markdown-3.3.4-py3-none-any.whl (97 kB)\n",
      "Collecting rsa<5,>=3.1.4\n",
      "  Using cached rsa-4.7.2-py3-none-any.whl (34 kB)\n",
      "Collecting pyasn1-modules>=0.2.1\n",
      "  Using cached pyasn1_modules-0.2.8-py2.py3-none-any.whl (155 kB)\n",
      "Collecting cachetools<5.0,>=2.0.0\n",
      "  Using cached cachetools-4.2.4-py3-none-any.whl (10 kB)\n",
      "Requirement already satisfied: requests-oauthlib>=0.7.0 in /Users/jackgibbons/opt/anaconda3/lib/python3.8/site-packages (from google-auth-oauthlib<0.5,>=0.4.1->tensorboard~=2.6->tensorflow) (1.3.0)\n",
      "Collecting pyasn1<0.5.0,>=0.4.6\n",
      "  Using cached pyasn1-0.4.8-py2.py3-none-any.whl (77 kB)\n",
      "Requirement already satisfied: urllib3<1.27,>=1.21.1 in /Users/jackgibbons/opt/anaconda3/lib/python3.8/site-packages (from requests<3,>=2.21.0->tensorboard~=2.6->tensorflow) (1.26.4)\n",
      "Requirement already satisfied: idna<3,>=2.5 in /Users/jackgibbons/opt/anaconda3/lib/python3.8/site-packages (from requests<3,>=2.21.0->tensorboard~=2.6->tensorflow) (2.10)\n",
      "Requirement already satisfied: certifi>=2017.4.17 in /Users/jackgibbons/opt/anaconda3/lib/python3.8/site-packages (from requests<3,>=2.21.0->tensorboard~=2.6->tensorflow) (2020.12.5)\n",
      "Requirement already satisfied: chardet<5,>=3.0.2 in /Users/jackgibbons/opt/anaconda3/lib/python3.8/site-packages (from requests<3,>=2.21.0->tensorboard~=2.6->tensorflow) (4.0.0)\n",
      "Requirement already satisfied: oauthlib>=3.0.0 in /Users/jackgibbons/opt/anaconda3/lib/python3.8/site-packages (from requests-oauthlib>=0.7.0->google-auth-oauthlib<0.5,>=0.4.1->tensorboard~=2.6->tensorflow) (3.1.1)\n",
      "Installing collected packages: pyasn1, rsa, pyasn1-modules, cachetools, google-auth, tensorboard-plugin-wit, tensorboard-data-server, protobuf, markdown, grpcio, google-auth-oauthlib, absl-py, termcolor, tensorflow-io-gcs-filesystem, tensorflow-estimator, tensorboard, opt-einsum, libclang, keras-preprocessing, keras, google-pasta, gast, flatbuffers, astunparse, tensorflow\n",
      "Successfully installed absl-py-1.0.0 astunparse-1.6.3 cachetools-4.2.4 flatbuffers-2.0 gast-0.4.0 google-auth-2.3.3 google-auth-oauthlib-0.4.6 google-pasta-0.2.0 grpcio-1.41.1 keras-2.7.0 keras-preprocessing-1.1.2 libclang-12.0.0 markdown-3.3.4 opt-einsum-3.3.0 protobuf-3.19.1 pyasn1-0.4.8 pyasn1-modules-0.2.8 rsa-4.7.2 tensorboard-2.7.0 tensorboard-data-server-0.6.1 tensorboard-plugin-wit-1.8.0 tensorflow-2.7.0 tensorflow-estimator-2.7.0 tensorflow-io-gcs-filesystem-0.22.0 termcolor-1.1.0\n"
     ]
    }
   ],
   "source": [
    "!pip install tensorflow"
   ]
  },
  {
   "cell_type": "code",
   "execution_count": 1,
   "metadata": {},
   "outputs": [
    {
     "name": "stdout",
     "output_type": "stream",
     "text": [
      "Collecting gpt-2-simple\n",
      "  Using cached gpt_2_simple-0.8.1-py3-none-any.whl\n",
      "Requirement already satisfied: regex in /Users/jackgibbons/opt/anaconda3/envs/tensor_env/lib/python3.8/site-packages (from gpt-2-simple) (2021.4.4)\n",
      "Requirement already satisfied: tqdm in /Users/jackgibbons/opt/anaconda3/envs/tensor_env/lib/python3.8/site-packages (from gpt-2-simple) (4.59.0)\n",
      "Requirement already satisfied: numpy in /Users/jackgibbons/opt/anaconda3/envs/tensor_env/lib/python3.8/site-packages (from gpt-2-simple) (1.20.1)\n",
      "Requirement already satisfied: requests in /Users/jackgibbons/opt/anaconda3/envs/tensor_env/lib/python3.8/site-packages (from gpt-2-simple) (2.25.1)\n",
      "Collecting toposort\n",
      "  Using cached toposort-1.7-py2.py3-none-any.whl (9.0 kB)\n",
      "Requirement already satisfied: tensorflow>=2.5.1 in /Users/jackgibbons/opt/anaconda3/envs/tensor_env/lib/python3.8/site-packages (from gpt-2-simple) (2.7.0)\n",
      "Requirement already satisfied: protobuf>=3.9.2 in /Users/jackgibbons/opt/anaconda3/envs/tensor_env/lib/python3.8/site-packages (from tensorflow>=2.5.1->gpt-2-simple) (3.19.1)\n",
      "Requirement already satisfied: termcolor>=1.1.0 in /Users/jackgibbons/opt/anaconda3/envs/tensor_env/lib/python3.8/site-packages (from tensorflow>=2.5.1->gpt-2-simple) (1.1.0)\n",
      "Requirement already satisfied: keras<2.8,>=2.7.0rc0 in /Users/jackgibbons/opt/anaconda3/envs/tensor_env/lib/python3.8/site-packages (from tensorflow>=2.5.1->gpt-2-simple) (2.7.0)\n",
      "Requirement already satisfied: libclang>=9.0.1 in /Users/jackgibbons/opt/anaconda3/envs/tensor_env/lib/python3.8/site-packages (from tensorflow>=2.5.1->gpt-2-simple) (12.0.0)\n",
      "Requirement already satisfied: astunparse>=1.6.0 in /Users/jackgibbons/opt/anaconda3/envs/tensor_env/lib/python3.8/site-packages (from tensorflow>=2.5.1->gpt-2-simple) (1.6.3)\n",
      "Requirement already satisfied: wheel<1.0,>=0.32.0 in /Users/jackgibbons/opt/anaconda3/envs/tensor_env/lib/python3.8/site-packages (from tensorflow>=2.5.1->gpt-2-simple) (0.36.2)\n",
      "Requirement already satisfied: typing-extensions>=3.6.6 in /Users/jackgibbons/opt/anaconda3/envs/tensor_env/lib/python3.8/site-packages (from tensorflow>=2.5.1->gpt-2-simple) (3.7.4.3)\n",
      "Requirement already satisfied: flatbuffers<3.0,>=1.12 in /Users/jackgibbons/opt/anaconda3/envs/tensor_env/lib/python3.8/site-packages (from tensorflow>=2.5.1->gpt-2-simple) (2.0)\n",
      "Requirement already satisfied: opt-einsum>=2.3.2 in /Users/jackgibbons/opt/anaconda3/envs/tensor_env/lib/python3.8/site-packages (from tensorflow>=2.5.1->gpt-2-simple) (3.3.0)\n",
      "Requirement already satisfied: tensorboard~=2.6 in /Users/jackgibbons/opt/anaconda3/envs/tensor_env/lib/python3.8/site-packages (from tensorflow>=2.5.1->gpt-2-simple) (2.7.0)\n",
      "Requirement already satisfied: tensorflow-io-gcs-filesystem>=0.21.0 in /Users/jackgibbons/opt/anaconda3/envs/tensor_env/lib/python3.8/site-packages (from tensorflow>=2.5.1->gpt-2-simple) (0.22.0)\n",
      "Requirement already satisfied: absl-py>=0.4.0 in /Users/jackgibbons/opt/anaconda3/envs/tensor_env/lib/python3.8/site-packages (from tensorflow>=2.5.1->gpt-2-simple) (1.0.0)\n",
      "Requirement already satisfied: keras-preprocessing>=1.1.1 in /Users/jackgibbons/opt/anaconda3/envs/tensor_env/lib/python3.8/site-packages (from tensorflow>=2.5.1->gpt-2-simple) (1.1.2)\n",
      "Requirement already satisfied: gast<0.5.0,>=0.2.1 in /Users/jackgibbons/opt/anaconda3/envs/tensor_env/lib/python3.8/site-packages (from tensorflow>=2.5.1->gpt-2-simple) (0.4.0)\n",
      "Requirement already satisfied: wrapt>=1.11.0 in /Users/jackgibbons/opt/anaconda3/envs/tensor_env/lib/python3.8/site-packages (from tensorflow>=2.5.1->gpt-2-simple) (1.12.1)\n",
      "Requirement already satisfied: grpcio<2.0,>=1.24.3 in /Users/jackgibbons/opt/anaconda3/envs/tensor_env/lib/python3.8/site-packages (from tensorflow>=2.5.1->gpt-2-simple) (1.41.1)\n",
      "Requirement already satisfied: google-pasta>=0.1.1 in /Users/jackgibbons/opt/anaconda3/envs/tensor_env/lib/python3.8/site-packages (from tensorflow>=2.5.1->gpt-2-simple) (0.2.0)\n",
      "Requirement already satisfied: h5py>=2.9.0 in /Users/jackgibbons/opt/anaconda3/envs/tensor_env/lib/python3.8/site-packages (from tensorflow>=2.5.1->gpt-2-simple) (2.10.0)\n",
      "Requirement already satisfied: tensorflow-estimator<2.8,~=2.7.0rc0 in /Users/jackgibbons/opt/anaconda3/envs/tensor_env/lib/python3.8/site-packages (from tensorflow>=2.5.1->gpt-2-simple) (2.7.0)\n",
      "Requirement already satisfied: six>=1.12.0 in /Users/jackgibbons/opt/anaconda3/envs/tensor_env/lib/python3.8/site-packages (from tensorflow>=2.5.1->gpt-2-simple) (1.15.0)\n",
      "Requirement already satisfied: urllib3<1.27,>=1.21.1 in /Users/jackgibbons/opt/anaconda3/envs/tensor_env/lib/python3.8/site-packages (from requests->gpt-2-simple) (1.26.4)\n",
      "Requirement already satisfied: chardet<5,>=3.0.2 in /Users/jackgibbons/opt/anaconda3/envs/tensor_env/lib/python3.8/site-packages (from requests->gpt-2-simple) (4.0.0)\n",
      "Requirement already satisfied: certifi>=2017.4.17 in /Users/jackgibbons/opt/anaconda3/envs/tensor_env/lib/python3.8/site-packages (from requests->gpt-2-simple) (2020.12.5)\n",
      "Requirement already satisfied: idna<3,>=2.5 in /Users/jackgibbons/opt/anaconda3/envs/tensor_env/lib/python3.8/site-packages (from requests->gpt-2-simple) (2.10)\n",
      "Requirement already satisfied: werkzeug>=0.11.15 in /Users/jackgibbons/opt/anaconda3/envs/tensor_env/lib/python3.8/site-packages (from tensorboard~=2.6->tensorflow>=2.5.1->gpt-2-simple) (1.0.1)\n",
      "Requirement already satisfied: markdown>=2.6.8 in /Users/jackgibbons/opt/anaconda3/envs/tensor_env/lib/python3.8/site-packages (from tensorboard~=2.6->tensorflow>=2.5.1->gpt-2-simple) (3.3.4)\n",
      "Requirement already satisfied: google-auth<3,>=1.6.3 in /Users/jackgibbons/opt/anaconda3/envs/tensor_env/lib/python3.8/site-packages (from tensorboard~=2.6->tensorflow>=2.5.1->gpt-2-simple) (2.3.3)\n",
      "Requirement already satisfied: setuptools>=41.0.0 in /Users/jackgibbons/opt/anaconda3/envs/tensor_env/lib/python3.8/site-packages (from tensorboard~=2.6->tensorflow>=2.5.1->gpt-2-simple) (52.0.0.post20210125)\n",
      "Requirement already satisfied: google-auth-oauthlib<0.5,>=0.4.1 in /Users/jackgibbons/opt/anaconda3/envs/tensor_env/lib/python3.8/site-packages (from tensorboard~=2.6->tensorflow>=2.5.1->gpt-2-simple) (0.4.6)\n",
      "Requirement already satisfied: tensorboard-plugin-wit>=1.6.0 in /Users/jackgibbons/opt/anaconda3/envs/tensor_env/lib/python3.8/site-packages (from tensorboard~=2.6->tensorflow>=2.5.1->gpt-2-simple) (1.8.0)\n",
      "Requirement already satisfied: tensorboard-data-server<0.7.0,>=0.6.0 in /Users/jackgibbons/opt/anaconda3/envs/tensor_env/lib/python3.8/site-packages (from tensorboard~=2.6->tensorflow>=2.5.1->gpt-2-simple) (0.6.1)\n",
      "Requirement already satisfied: rsa<5,>=3.1.4 in /Users/jackgibbons/opt/anaconda3/envs/tensor_env/lib/python3.8/site-packages (from google-auth<3,>=1.6.3->tensorboard~=2.6->tensorflow>=2.5.1->gpt-2-simple) (4.7.2)\n",
      "Requirement already satisfied: pyasn1-modules>=0.2.1 in /Users/jackgibbons/opt/anaconda3/envs/tensor_env/lib/python3.8/site-packages (from google-auth<3,>=1.6.3->tensorboard~=2.6->tensorflow>=2.5.1->gpt-2-simple) (0.2.8)\n",
      "Requirement already satisfied: cachetools<5.0,>=2.0.0 in /Users/jackgibbons/opt/anaconda3/envs/tensor_env/lib/python3.8/site-packages (from google-auth<3,>=1.6.3->tensorboard~=2.6->tensorflow>=2.5.1->gpt-2-simple) (4.2.4)\n",
      "Requirement already satisfied: requests-oauthlib>=0.7.0 in /Users/jackgibbons/opt/anaconda3/envs/tensor_env/lib/python3.8/site-packages (from google-auth-oauthlib<0.5,>=0.4.1->tensorboard~=2.6->tensorflow>=2.5.1->gpt-2-simple) (1.3.0)\n",
      "Requirement already satisfied: pyasn1<0.5.0,>=0.4.6 in /Users/jackgibbons/opt/anaconda3/envs/tensor_env/lib/python3.8/site-packages (from pyasn1-modules>=0.2.1->google-auth<3,>=1.6.3->tensorboard~=2.6->tensorflow>=2.5.1->gpt-2-simple) (0.4.8)\n",
      "Requirement already satisfied: oauthlib>=3.0.0 in /Users/jackgibbons/opt/anaconda3/envs/tensor_env/lib/python3.8/site-packages (from requests-oauthlib>=0.7.0->google-auth-oauthlib<0.5,>=0.4.1->tensorboard~=2.6->tensorflow>=2.5.1->gpt-2-simple) (3.1.1)\n",
      "Installing collected packages: toposort, gpt-2-simple\n",
      "Successfully installed gpt-2-simple-0.8.1 toposort-1.7\n"
     ]
    }
   ],
   "source": [
    "!pip install gpt-2-simple\n"
   ]
  },
  {
   "cell_type": "code",
   "execution_count": 1,
   "metadata": {},
   "outputs": [],
   "source": [
    "import tensorflow\n"
   ]
  },
  {
   "cell_type": "code",
   "execution_count": 2,
   "metadata": {},
   "outputs": [],
   "source": [
    "import gpt_2_simple as gpt2\n",
    "from datetime import datetime"
   ]
  },
  {
   "cell_type": "code",
   "execution_count": null,
   "metadata": {},
   "outputs": [],
   "source": []
  }
 ],
 "metadata": {
  "interpreter": {
   "hash": "aee8b7b246df8f9039afb4144a1f6fd8d2ca17a180786b69acc140d282b71a49"
  },
  "kernelspec": {
   "display_name": "Python 3.9.1 64-bit",
   "language": "python",
   "name": "python3"
  },
  "language_info": {
   "codemirror_mode": {
    "name": "ipython",
    "version": 3
   },
   "file_extension": ".py",
   "mimetype": "text/x-python",
   "name": "python",
   "nbconvert_exporter": "python",
   "pygments_lexer": "ipython3",
   "version": "3.8.8"
  },
  "orig_nbformat": 4
 },
 "nbformat": 4,
 "nbformat_minor": 2
}
