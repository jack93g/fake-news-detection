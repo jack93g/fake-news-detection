{
 "cells": [
  {
   "cell_type": "markdown",
   "metadata": {},
   "source": [
    "## **Fake news prediction**\n",
    "\n",
    "Now it's time to apply some ML algorithms to our data and try to make a model which can distinguish between fake and real news articles"
   ]
  },
  {
   "cell_type": "code",
   "execution_count": 2,
   "metadata": {},
   "outputs": [],
   "source": [
    "import pandas as pd\n",
    "import numpy as np\n",
    "from matplotlib import pyplot as plt\n",
    "import seaborn as sns\n",
    "from sklearn.model_selection import train_test_split\n",
    "from sklearn.metrics import accuracy_score\n",
    "from sklearn.metrics import classification_report\n",
    "from sklearn.feature_extraction.text import TfidfVectorizer\n",
    "from sklearn.linear_model import LogisticRegression\n",
    "from sklearn.ensemble import RandomForestClassifier\n",
    "from sklearn.tree import DecisionTreeClassifier\n",
    "from sklearn.neighbors import KNeighborsClassifier\n",
    "from sklearn.svm import SVC\n",
    "from sklearn import metrics\n",
    "from sklearn.metrics import classification_report\n",
    "from sklearn.metrics import f1_score\n",
    "from sklearn.model_selection import cross_val_score\n",
    "from sklearn.metrics import roc_auc_score\n",
    "from sklearn.metrics import roc_curve\n",
    "from sklearn.metrics import plot_confusion_matrix\n",
    "from sklearn.metrics import accuracy_score\n",
    "from sklearn.pipeline import Pipeline\n",
    "from sklearn.model_selection import GridSearchCV\n",
    "import nltk\n",
    "from nltk.stem import WordNetLemmatizer\n",
    "import warnings\n",
    "warnings.filterwarnings(\"ignore\")"
   ]
  },
  {
   "cell_type": "code",
   "execution_count": 3,
   "metadata": {},
   "outputs": [],
   "source": [
    "news_df = pd.read_csv('news_df_cleaned.csv')"
   ]
  },
  {
   "cell_type": "code",
   "execution_count": 4,
   "metadata": {},
   "outputs": [
    {
     "data": {
      "text/plain": [
       "<AxesSubplot:xlabel='classification'>"
      ]
     },
     "execution_count": 4,
     "metadata": {},
     "output_type": "execute_result"
    },
    {
     "data": {
      "image/png": "[encoded data removed]",
      "text/plain": [
       "<Figure size 432x288 with 1 Axes>"
      ]
     },
     "metadata": {
      "needs_background": "light"
     },
     "output_type": "display_data"
    }
   ],
   "source": [
    "# check we have an even distribution of fake and real news\n",
    "\n",
    "news_df.groupby(['classification']).size().plot(kind='bar')"
   ]
  },
  {
   "cell_type": "code",
   "execution_count": 5,
   "metadata": {},
   "outputs": [],
   "source": [
    "fake_df = news_df[news_df['classification'] == 'fake']\n",
    "real_df = news_df[news_df['classification'] == 'real']"
   ]
  },
  {
   "cell_type": "markdown",
   "metadata": {},
   "source": [
    "**Convert the clasification column to an integer so the models can process it**"
   ]
  },
  {
   "cell_type": "code",
   "execution_count": 6,
   "metadata": {},
   "outputs": [],
   "source": [
    "fake_df[\"class\"] = 0\n",
    "real_df[\"class\"] = 1"
   ]
  },
  {
   "cell_type": "markdown",
   "metadata": {},
   "source": [
    "**Merging the two dfs into one df again**"
   ]
  },
  {
   "cell_type": "code",
   "execution_count": 7,
   "metadata": {},
   "outputs": [
    {
     "data": {
      "text/html": [
       "<div>\n",
       "<style scoped>\n",
       "    .dataframe tbody tr th:only-of-type {\n",
       "        vertical-align: middle;\n",
       "    }\n",
       "\n",
       "    .dataframe tbody tr th {\n",
       "        vertical-align: top;\n",
       "    }\n",
       "\n",
       "    .dataframe thead th {\n",
       "        text-align: right;\n",
       "    }\n",
       "</style>\n",
       "<table border=\"1\" class=\"dataframe\">\n",
       "  <thead>\n",
       "    <tr style=\"text-align: right;\">\n",
       "      <th></th>\n",
       "      <th>headline</th>\n",
       "      <th>text</th>\n",
       "      <th>classification</th>\n",
       "      <th>text_cleaned</th>\n",
       "      <th>text_transformed</th>\n",
       "      <th>headline_cleaned</th>\n",
       "      <th>headline_transformed</th>\n",
       "      <th>class</th>\n",
       "    </tr>\n",
       "  </thead>\n",
       "  <tbody>\n",
       "    <tr>\n",
       "      <th>7262</th>\n",
       "      <td>WikiLeaks: Podesta Had Disturbing ‘Beyond Disc...</td>\n",
       "      <td>by Baxter Dmitry in News , US // 0 Comments  ...</td>\n",
       "      <td>fake</td>\n",
       "      <td>by baxter dmitry in news us comments a new wi...</td>\n",
       "      <td>baxter dmitry news u comment new wikileaks ema...</td>\n",
       "      <td>wikileaks podesta had disturbing beyond discip...</td>\n",
       "      <td>wikileaks podesta disturbing beyond discipline...</td>\n",
       "      <td>0</td>\n",
       "    </tr>\n",
       "    <tr>\n",
       "      <th>7263</th>\n",
       "      <td>Trump elected as President – risks and opportu...</td>\n",
       "      <td>13904 Views November 09, 2016 193 Comments Ana...</td>\n",
       "      <td>fake</td>\n",
       "      <td>views november comments analyses the saker so...</td>\n",
       "      <td>view november comment analysis saker happened ...</td>\n",
       "      <td>trump elected as president risks and opportuni...</td>\n",
       "      <td>trump elected president risk opportunity</td>\n",
       "      <td>0</td>\n",
       "    </tr>\n",
       "    <tr>\n",
       "      <th>7264</th>\n",
       "      <td>Break the Silence or Support Self-Determinatio...</td>\n",
       "      <td>B y Danny Haiphong S yria is “the target of on...</td>\n",
       "      <td>fake</td>\n",
       "      <td>b y danny haiphong s yria is the target of one...</td>\n",
       "      <td>b danny haiphong yria target one greatest misi...</td>\n",
       "      <td>break the silence or support self determinatio...</td>\n",
       "      <td>break silence support self determination syria...</td>\n",
       "      <td>0</td>\n",
       "    </tr>\n",
       "    <tr>\n",
       "      <th>7265</th>\n",
       "      <td>Re: donald-trump-accepts-the-nomination-public...</td>\n",
       "      <td>Wilderness Survival Copyright © 2016 The Econo...</td>\n",
       "      <td>fake</td>\n",
       "      <td>wilderness survival copyright the economic col...</td>\n",
       "      <td>wilderness survival copyright economic collaps...</td>\n",
       "      <td>re donald trump accepts the nomination public ...</td>\n",
       "      <td>donald trump accepts nomination public domain</td>\n",
       "      <td>0</td>\n",
       "    </tr>\n",
       "    <tr>\n",
       "      <th>7266</th>\n",
       "      <td>Re: More Than 101 Million Working Age American...</td>\n",
       "      <td>More Than 101 Million Working Age Americans Do...</td>\n",
       "      <td>fake</td>\n",
       "      <td>more than million working age americans do not...</td>\n",
       "      <td>million working age american job michael snyde...</td>\n",
       "      <td>re more than million working age americans do ...</td>\n",
       "      <td>million working age american job</td>\n",
       "      <td>0</td>\n",
       "    </tr>\n",
       "    <tr>\n",
       "      <th>...</th>\n",
       "      <td>...</td>\n",
       "      <td>...</td>\n",
       "      <td>...</td>\n",
       "      <td>...</td>\n",
       "      <td>...</td>\n",
       "      <td>...</td>\n",
       "      <td>...</td>\n",
       "      <td>...</td>\n",
       "    </tr>\n",
       "    <tr>\n",
       "      <th>7257</th>\n",
       "      <td>2020 Census Results Show Big Changes to Americ...</td>\n",
       "      <td>According to the 2020 United States Census, th...</td>\n",
       "      <td>real</td>\n",
       "      <td>according to the united states census the u s ...</td>\n",
       "      <td>according united state census u white hispanic...</td>\n",
       "      <td>census results show big changes to america s ...</td>\n",
       "      <td>census result show big change america racial e...</td>\n",
       "      <td>1</td>\n",
       "    </tr>\n",
       "    <tr>\n",
       "      <th>7258</th>\n",
       "      <td>Dems and GOP Strike Short-Term Deal on Debt, b...</td>\n",
       "      <td>Democrats and Republicans have reached a tempo...</td>\n",
       "      <td>real</td>\n",
       "      <td>democrats and republicans have reached a tempo...</td>\n",
       "      <td>democrat republican reached temporary solution...</td>\n",
       "      <td>dems and gop strike short term deal on debt bu...</td>\n",
       "      <td>dems gop strike short term deal debt larger di...</td>\n",
       "      <td>1</td>\n",
       "    </tr>\n",
       "    <tr>\n",
       "      <th>7259</th>\n",
       "      <td>January 6 Committee Votes to Hold Steve Bannon...</td>\n",
       "      <td>On Tuesday evening, the House Committee invest...</td>\n",
       "      <td>real</td>\n",
       "      <td>on tuesday evening the house committee investi...</td>\n",
       "      <td>tuesday evening house committee investigating ...</td>\n",
       "      <td>january committee votes to hold steve bannon i...</td>\n",
       "      <td>january committee vote hold steve bannon conte...</td>\n",
       "      <td>1</td>\n",
       "    </tr>\n",
       "    <tr>\n",
       "      <th>7260</th>\n",
       "      <td>Biden Picks Susan Rice to Lead Domestic Policy...</td>\n",
       "      <td>Statecertified 2020 presidential election winn...</td>\n",
       "      <td>real</td>\n",
       "      <td>statecertified presidential election winner jo...</td>\n",
       "      <td>statecertified presidential election winner jo...</td>\n",
       "      <td>biden picks susan rice to lead domestic policy...</td>\n",
       "      <td>biden pick susan rice lead domestic policy cou...</td>\n",
       "      <td>1</td>\n",
       "    </tr>\n",
       "    <tr>\n",
       "      <th>7261</th>\n",
       "      <td>Report Claims GOP Lawmakers, White House Staff...</td>\n",
       "      <td>A report from Rolling Stone (Left bias) claims...</td>\n",
       "      <td>real</td>\n",
       "      <td>a report from rolling stone left bias claims r...</td>\n",
       "      <td>report rolling stone left bias claim republica...</td>\n",
       "      <td>report claims gop lawmakers white house staff ...</td>\n",
       "      <td>report claim gop lawmaker white house staff he...</td>\n",
       "      <td>1</td>\n",
       "    </tr>\n",
       "  </tbody>\n",
       "</table>\n",
       "<p>14762 rows × 8 columns</p>\n",
       "</div>"
      ],
      "text/plain": [
       "                                               headline  \\\n",
       "7262  WikiLeaks: Podesta Had Disturbing ‘Beyond Disc...   \n",
       "7263  Trump elected as President – risks and opportu...   \n",
       "7264  Break the Silence or Support Self-Determinatio...   \n",
       "7265  Re: donald-trump-accepts-the-nomination-public...   \n",
       "7266  Re: More Than 101 Million Working Age American...   \n",
       "...                                                 ...   \n",
       "7257  2020 Census Results Show Big Changes to Americ...   \n",
       "7258  Dems and GOP Strike Short-Term Deal on Debt, b...   \n",
       "7259  January 6 Committee Votes to Hold Steve Bannon...   \n",
       "7260  Biden Picks Susan Rice to Lead Domestic Policy...   \n",
       "7261  Report Claims GOP Lawmakers, White House Staff...   \n",
       "\n",
       "                                                   text classification  \\\n",
       "7262   by Baxter Dmitry in News , US // 0 Comments  ...           fake   \n",
       "7263  13904 Views November 09, 2016 193 Comments Ana...           fake   \n",
       "7264  B y Danny Haiphong S yria is “the target of on...           fake   \n",
       "7265  Wilderness Survival Copyright © 2016 The Econo...           fake   \n",
       "7266  More Than 101 Million Working Age Americans Do...           fake   \n",
       "...                                                 ...            ...   \n",
       "7257  According to the 2020 United States Census, th...           real   \n",
       "7258  Democrats and Republicans have reached a tempo...           real   \n",
       "7259  On Tuesday evening, the House Committee invest...           real   \n",
       "7260  Statecertified 2020 presidential election winn...           real   \n",
       "7261  A report from Rolling Stone (Left bias) claims...           real   \n",
       "\n",
       "                                           text_cleaned  \\\n",
       "7262   by baxter dmitry in news us comments a new wi...   \n",
       "7263   views november comments analyses the saker so...   \n",
       "7264  b y danny haiphong s yria is the target of one...   \n",
       "7265  wilderness survival copyright the economic col...   \n",
       "7266  more than million working age americans do not...   \n",
       "...                                                 ...   \n",
       "7257  according to the united states census the u s ...   \n",
       "7258  democrats and republicans have reached a tempo...   \n",
       "7259  on tuesday evening the house committee investi...   \n",
       "7260  statecertified presidential election winner jo...   \n",
       "7261  a report from rolling stone left bias claims r...   \n",
       "\n",
       "                                       text_transformed  \\\n",
       "7262  baxter dmitry news u comment new wikileaks ema...   \n",
       "7263  view november comment analysis saker happened ...   \n",
       "7264  b danny haiphong yria target one greatest misi...   \n",
       "7265  wilderness survival copyright economic collaps...   \n",
       "7266  million working age american job michael snyde...   \n",
       "...                                                 ...   \n",
       "7257  according united state census u white hispanic...   \n",
       "7258  democrat republican reached temporary solution...   \n",
       "7259  tuesday evening house committee investigating ...   \n",
       "7260  statecertified presidential election winner jo...   \n",
       "7261  report rolling stone left bias claim republica...   \n",
       "\n",
       "                                       headline_cleaned  \\\n",
       "7262  wikileaks podesta had disturbing beyond discip...   \n",
       "7263  trump elected as president risks and opportuni...   \n",
       "7264  break the silence or support self determinatio...   \n",
       "7265  re donald trump accepts the nomination public ...   \n",
       "7266  re more than million working age americans do ...   \n",
       "...                                                 ...   \n",
       "7257   census results show big changes to america s ...   \n",
       "7258  dems and gop strike short term deal on debt bu...   \n",
       "7259  january committee votes to hold steve bannon i...   \n",
       "7260  biden picks susan rice to lead domestic policy...   \n",
       "7261  report claims gop lawmakers white house staff ...   \n",
       "\n",
       "                                   headline_transformed  class  \n",
       "7262  wikileaks podesta disturbing beyond discipline...      0  \n",
       "7263          trump elected president risk opportunity       0  \n",
       "7264  break silence support self determination syria...      0  \n",
       "7265     donald trump accepts nomination public domain       0  \n",
       "7266                  million working age american job       0  \n",
       "...                                                 ...    ...  \n",
       "7257  census result show big change america racial e...      1  \n",
       "7258  dems gop strike short term deal debt larger di...      1  \n",
       "7259  january committee vote hold steve bannon conte...      1  \n",
       "7260  biden pick susan rice lead domestic policy cou...      1  \n",
       "7261  report claim gop lawmaker white house staff he...      1  \n",
       "\n",
       "[14762 rows x 8 columns]"
      ]
     },
     "execution_count": 7,
     "metadata": {},
     "output_type": "execute_result"
    }
   ],
   "source": [
    "df_merged = pd.concat([fake_df, real_df], axis =0 )\n",
    "df_merged"
   ]
  },
  {
   "cell_type": "markdown",
   "metadata": {},
   "source": [
    "**Dropping the unecessary columns**"
   ]
  },
  {
   "cell_type": "code",
   "execution_count": 10,
   "metadata": {},
   "outputs": [
    {
     "ename": "KeyError",
     "evalue": "\"['headline' 'text' 'classification' 'text_cleaned' 'headline_cleaned'] not found in axis\"",
     "output_type": "error",
     "traceback": [
      "\u001b[0;31m---------------------------------------------------------------------------\u001b[0m",
      "\u001b[0;31mKeyError\u001b[0m                                  Traceback (most recent call last)",
      "\u001b[0;32m<ipython-input-10-e7fb9ca72705>\u001b[0m in \u001b[0;36m<module>\u001b[0;34m\u001b[0m\n\u001b[0;32m----> 1\u001b[0;31m df_merged = df_merged.drop(columns=['headline', 'text', 'classification', \n\u001b[0m\u001b[1;32m      2\u001b[0m 'text_cleaned', 'headline_cleaned'])\n",
      "\u001b[0;32m~/opt/anaconda3/lib/python3.8/site-packages/pandas/core/frame.py\u001b[0m in \u001b[0;36mdrop\u001b[0;34m(self, labels, axis, index, columns, level, inplace, errors)\u001b[0m\n\u001b[1;32m   4306\u001b[0m                 \u001b[0mweight\u001b[0m  \u001b[0;36m1.0\u001b[0m     \u001b[0;36m0.8\u001b[0m\u001b[0;34m\u001b[0m\u001b[0;34m\u001b[0m\u001b[0m\n\u001b[1;32m   4307\u001b[0m         \"\"\"\n\u001b[0;32m-> 4308\u001b[0;31m         return super().drop(\n\u001b[0m\u001b[1;32m   4309\u001b[0m             \u001b[0mlabels\u001b[0m\u001b[0;34m=\u001b[0m\u001b[0mlabels\u001b[0m\u001b[0;34m,\u001b[0m\u001b[0;34m\u001b[0m\u001b[0;34m\u001b[0m\u001b[0m\n\u001b[1;32m   4310\u001b[0m             \u001b[0maxis\u001b[0m\u001b[0;34m=\u001b[0m\u001b[0maxis\u001b[0m\u001b[0;34m,\u001b[0m\u001b[0;34m\u001b[0m\u001b[0;34m\u001b[0m\u001b[0m\n",
      "\u001b[0;32m~/opt/anaconda3/lib/python3.8/site-packages/pandas/core/generic.py\u001b[0m in \u001b[0;36mdrop\u001b[0;34m(self, labels, axis, index, columns, level, inplace, errors)\u001b[0m\n\u001b[1;32m   4151\u001b[0m         \u001b[0;32mfor\u001b[0m \u001b[0maxis\u001b[0m\u001b[0;34m,\u001b[0m \u001b[0mlabels\u001b[0m \u001b[0;32min\u001b[0m \u001b[0maxes\u001b[0m\u001b[0;34m.\u001b[0m\u001b[0mitems\u001b[0m\u001b[0;34m(\u001b[0m\u001b[0;34m)\u001b[0m\u001b[0;34m:\u001b[0m\u001b[0;34m\u001b[0m\u001b[0;34m\u001b[0m\u001b[0m\n\u001b[1;32m   4152\u001b[0m             \u001b[0;32mif\u001b[0m \u001b[0mlabels\u001b[0m \u001b[0;32mis\u001b[0m \u001b[0;32mnot\u001b[0m \u001b[0;32mNone\u001b[0m\u001b[0;34m:\u001b[0m\u001b[0;34m\u001b[0m\u001b[0;34m\u001b[0m\u001b[0m\n\u001b[0;32m-> 4153\u001b[0;31m                 \u001b[0mobj\u001b[0m \u001b[0;34m=\u001b[0m \u001b[0mobj\u001b[0m\u001b[0;34m.\u001b[0m\u001b[0m_drop_axis\u001b[0m\u001b[0;34m(\u001b[0m\u001b[0mlabels\u001b[0m\u001b[0;34m,\u001b[0m \u001b[0maxis\u001b[0m\u001b[0;34m,\u001b[0m \u001b[0mlevel\u001b[0m\u001b[0;34m=\u001b[0m\u001b[0mlevel\u001b[0m\u001b[0;34m,\u001b[0m \u001b[0merrors\u001b[0m\u001b[0;34m=\u001b[0m\u001b[0merrors\u001b[0m\u001b[0;34m)\u001b[0m\u001b[0;34m\u001b[0m\u001b[0;34m\u001b[0m\u001b[0m\n\u001b[0m\u001b[1;32m   4154\u001b[0m \u001b[0;34m\u001b[0m\u001b[0m\n\u001b[1;32m   4155\u001b[0m         \u001b[0;32mif\u001b[0m \u001b[0minplace\u001b[0m\u001b[0;34m:\u001b[0m\u001b[0;34m\u001b[0m\u001b[0;34m\u001b[0m\u001b[0m\n",
      "\u001b[0;32m~/opt/anaconda3/lib/python3.8/site-packages/pandas/core/generic.py\u001b[0m in \u001b[0;36m_drop_axis\u001b[0;34m(self, labels, axis, level, errors)\u001b[0m\n\u001b[1;32m   4186\u001b[0m                 \u001b[0mnew_axis\u001b[0m \u001b[0;34m=\u001b[0m \u001b[0maxis\u001b[0m\u001b[0;34m.\u001b[0m\u001b[0mdrop\u001b[0m\u001b[0;34m(\u001b[0m\u001b[0mlabels\u001b[0m\u001b[0;34m,\u001b[0m \u001b[0mlevel\u001b[0m\u001b[0;34m=\u001b[0m\u001b[0mlevel\u001b[0m\u001b[0;34m,\u001b[0m \u001b[0merrors\u001b[0m\u001b[0;34m=\u001b[0m\u001b[0merrors\u001b[0m\u001b[0;34m)\u001b[0m\u001b[0;34m\u001b[0m\u001b[0;34m\u001b[0m\u001b[0m\n\u001b[1;32m   4187\u001b[0m             \u001b[0;32melse\u001b[0m\u001b[0;34m:\u001b[0m\u001b[0;34m\u001b[0m\u001b[0;34m\u001b[0m\u001b[0m\n\u001b[0;32m-> 4188\u001b[0;31m                 \u001b[0mnew_axis\u001b[0m \u001b[0;34m=\u001b[0m \u001b[0maxis\u001b[0m\u001b[0;34m.\u001b[0m\u001b[0mdrop\u001b[0m\u001b[0;34m(\u001b[0m\u001b[0mlabels\u001b[0m\u001b[0;34m,\u001b[0m \u001b[0merrors\u001b[0m\u001b[0;34m=\u001b[0m\u001b[0merrors\u001b[0m\u001b[0;34m)\u001b[0m\u001b[0;34m\u001b[0m\u001b[0;34m\u001b[0m\u001b[0m\n\u001b[0m\u001b[1;32m   4189\u001b[0m             \u001b[0mresult\u001b[0m \u001b[0;34m=\u001b[0m \u001b[0mself\u001b[0m\u001b[0;34m.\u001b[0m\u001b[0mreindex\u001b[0m\u001b[0;34m(\u001b[0m\u001b[0;34m**\u001b[0m\u001b[0;34m{\u001b[0m\u001b[0maxis_name\u001b[0m\u001b[0;34m:\u001b[0m \u001b[0mnew_axis\u001b[0m\u001b[0;34m}\u001b[0m\u001b[0;34m)\u001b[0m\u001b[0;34m\u001b[0m\u001b[0;34m\u001b[0m\u001b[0m\n\u001b[1;32m   4190\u001b[0m \u001b[0;34m\u001b[0m\u001b[0m\n",
      "\u001b[0;32m~/opt/anaconda3/lib/python3.8/site-packages/pandas/core/indexes/base.py\u001b[0m in \u001b[0;36mdrop\u001b[0;34m(self, labels, errors)\u001b[0m\n\u001b[1;32m   5589\u001b[0m         \u001b[0;32mif\u001b[0m \u001b[0mmask\u001b[0m\u001b[0;34m.\u001b[0m\u001b[0many\u001b[0m\u001b[0;34m(\u001b[0m\u001b[0;34m)\u001b[0m\u001b[0;34m:\u001b[0m\u001b[0;34m\u001b[0m\u001b[0;34m\u001b[0m\u001b[0m\n\u001b[1;32m   5590\u001b[0m             \u001b[0;32mif\u001b[0m \u001b[0merrors\u001b[0m \u001b[0;34m!=\u001b[0m \u001b[0;34m\"ignore\"\u001b[0m\u001b[0;34m:\u001b[0m\u001b[0;34m\u001b[0m\u001b[0;34m\u001b[0m\u001b[0m\n\u001b[0;32m-> 5591\u001b[0;31m                 \u001b[0;32mraise\u001b[0m \u001b[0mKeyError\u001b[0m\u001b[0;34m(\u001b[0m\u001b[0;34mf\"{labels[mask]} not found in axis\"\u001b[0m\u001b[0;34m)\u001b[0m\u001b[0;34m\u001b[0m\u001b[0;34m\u001b[0m\u001b[0m\n\u001b[0m\u001b[1;32m   5592\u001b[0m             \u001b[0mindexer\u001b[0m \u001b[0;34m=\u001b[0m \u001b[0mindexer\u001b[0m\u001b[0;34m[\u001b[0m\u001b[0;34m~\u001b[0m\u001b[0mmask\u001b[0m\u001b[0;34m]\u001b[0m\u001b[0;34m\u001b[0m\u001b[0;34m\u001b[0m\u001b[0m\n\u001b[1;32m   5593\u001b[0m         \u001b[0;32mreturn\u001b[0m \u001b[0mself\u001b[0m\u001b[0;34m.\u001b[0m\u001b[0mdelete\u001b[0m\u001b[0;34m(\u001b[0m\u001b[0mindexer\u001b[0m\u001b[0;34m)\u001b[0m\u001b[0;34m\u001b[0m\u001b[0;34m\u001b[0m\u001b[0m\n",
      "\u001b[0;31mKeyError\u001b[0m: \"['headline' 'text' 'classification' 'text_cleaned' 'headline_cleaned'] not found in axis\""
     ]
    }
   ],
   "source": [
    "df_merged = df_merged.drop(columns=['headline', 'text', 'classification', \n",
    "'text_cleaned', 'headline_cleaned'])"
   ]
  },
  {
   "cell_type": "markdown",
   "metadata": {},
   "source": [
    "**We can also merge the headlines and text and pass this to the algorithm instead of only the headline or text**"
   ]
  },
  {
   "cell_type": "code",
   "execution_count": 11,
   "metadata": {},
   "outputs": [
    {
     "data": {
      "text/html": [
       "<div>\n",
       "<style scoped>\n",
       "    .dataframe tbody tr th:only-of-type {\n",
       "        vertical-align: middle;\n",
       "    }\n",
       "\n",
       "    .dataframe tbody tr th {\n",
       "        vertical-align: top;\n",
       "    }\n",
       "\n",
       "    .dataframe thead th {\n",
       "        text-align: right;\n",
       "    }\n",
       "</style>\n",
       "<table border=\"1\" class=\"dataframe\">\n",
       "  <thead>\n",
       "    <tr style=\"text-align: right;\">\n",
       "      <th></th>\n",
       "      <th>text_transformed</th>\n",
       "      <th>headline_transformed</th>\n",
       "      <th>class</th>\n",
       "      <th>headline_text_merged</th>\n",
       "    </tr>\n",
       "  </thead>\n",
       "  <tbody>\n",
       "    <tr>\n",
       "      <th>7262</th>\n",
       "      <td>baxter dmitry news u comment new wikileaks ema...</td>\n",
       "      <td>wikileaks podesta disturbing beyond discipline...</td>\n",
       "      <td>0</td>\n",
       "      <td>wikileaks podesta disturbing beyond discipline...</td>\n",
       "    </tr>\n",
       "    <tr>\n",
       "      <th>7263</th>\n",
       "      <td>view november comment analysis saker happened ...</td>\n",
       "      <td>trump elected president risk opportunity</td>\n",
       "      <td>0</td>\n",
       "      <td>trump elected president risk opportunity view ...</td>\n",
       "    </tr>\n",
       "    <tr>\n",
       "      <th>7264</th>\n",
       "      <td>b danny haiphong yria target one greatest misi...</td>\n",
       "      <td>break silence support self determination syria...</td>\n",
       "      <td>0</td>\n",
       "      <td>break silence support self determination syria...</td>\n",
       "    </tr>\n",
       "    <tr>\n",
       "      <th>7265</th>\n",
       "      <td>wilderness survival copyright economic collaps...</td>\n",
       "      <td>donald trump accepts nomination public domain</td>\n",
       "      <td>0</td>\n",
       "      <td>donald trump accepts nomination public domain ...</td>\n",
       "    </tr>\n",
       "    <tr>\n",
       "      <th>7266</th>\n",
       "      <td>million working age american job michael snyde...</td>\n",
       "      <td>million working age american job</td>\n",
       "      <td>0</td>\n",
       "      <td>million working age american job million worki...</td>\n",
       "    </tr>\n",
       "    <tr>\n",
       "      <th>...</th>\n",
       "      <td>...</td>\n",
       "      <td>...</td>\n",
       "      <td>...</td>\n",
       "      <td>...</td>\n",
       "    </tr>\n",
       "    <tr>\n",
       "      <th>7257</th>\n",
       "      <td>according united state census u white hispanic...</td>\n",
       "      <td>census result show big change america racial e...</td>\n",
       "      <td>1</td>\n",
       "      <td>census result show big change america racial e...</td>\n",
       "    </tr>\n",
       "    <tr>\n",
       "      <th>7258</th>\n",
       "      <td>democrat republican reached temporary solution...</td>\n",
       "      <td>dems gop strike short term deal debt larger di...</td>\n",
       "      <td>1</td>\n",
       "      <td>dems gop strike short term deal debt larger di...</td>\n",
       "    </tr>\n",
       "    <tr>\n",
       "      <th>7259</th>\n",
       "      <td>tuesday evening house committee investigating ...</td>\n",
       "      <td>january committee vote hold steve bannon conte...</td>\n",
       "      <td>1</td>\n",
       "      <td>january committee vote hold steve bannon conte...</td>\n",
       "    </tr>\n",
       "    <tr>\n",
       "      <th>7260</th>\n",
       "      <td>statecertified presidential election winner jo...</td>\n",
       "      <td>biden pick susan rice lead domestic policy cou...</td>\n",
       "      <td>1</td>\n",
       "      <td>biden pick susan rice lead domestic policy cou...</td>\n",
       "    </tr>\n",
       "    <tr>\n",
       "      <th>7261</th>\n",
       "      <td>report rolling stone left bias claim republica...</td>\n",
       "      <td>report claim gop lawmaker white house staff he...</td>\n",
       "      <td>1</td>\n",
       "      <td>report claim gop lawmaker white house staff he...</td>\n",
       "    </tr>\n",
       "  </tbody>\n",
       "</table>\n",
       "<p>14762 rows × 4 columns</p>\n",
       "</div>"
      ],
      "text/plain": [
       "                                       text_transformed  \\\n",
       "7262  baxter dmitry news u comment new wikileaks ema...   \n",
       "7263  view november comment analysis saker happened ...   \n",
       "7264  b danny haiphong yria target one greatest misi...   \n",
       "7265  wilderness survival copyright economic collaps...   \n",
       "7266  million working age american job michael snyde...   \n",
       "...                                                 ...   \n",
       "7257  according united state census u white hispanic...   \n",
       "7258  democrat republican reached temporary solution...   \n",
       "7259  tuesday evening house committee investigating ...   \n",
       "7260  statecertified presidential election winner jo...   \n",
       "7261  report rolling stone left bias claim republica...   \n",
       "\n",
       "                                   headline_transformed  class  \\\n",
       "7262  wikileaks podesta disturbing beyond discipline...      0   \n",
       "7263          trump elected president risk opportunity       0   \n",
       "7264  break silence support self determination syria...      0   \n",
       "7265     donald trump accepts nomination public domain       0   \n",
       "7266                  million working age american job       0   \n",
       "...                                                 ...    ...   \n",
       "7257  census result show big change america racial e...      1   \n",
       "7258  dems gop strike short term deal debt larger di...      1   \n",
       "7259  january committee vote hold steve bannon conte...      1   \n",
       "7260  biden pick susan rice lead domestic policy cou...      1   \n",
       "7261  report claim gop lawmaker white house staff he...      1   \n",
       "\n",
       "                                   headline_text_merged  \n",
       "7262  wikileaks podesta disturbing beyond discipline...  \n",
       "7263  trump elected president risk opportunity view ...  \n",
       "7264  break silence support self determination syria...  \n",
       "7265  donald trump accepts nomination public domain ...  \n",
       "7266  million working age american job million worki...  \n",
       "...                                                 ...  \n",
       "7257  census result show big change america racial e...  \n",
       "7258  dems gop strike short term deal debt larger di...  \n",
       "7259  january committee vote hold steve bannon conte...  \n",
       "7260  biden pick susan rice lead domestic policy cou...  \n",
       "7261  report claim gop lawmaker white house staff he...  \n",
       "\n",
       "[14762 rows x 4 columns]"
      ]
     },
     "execution_count": 11,
     "metadata": {},
     "output_type": "execute_result"
    }
   ],
   "source": [
    "df_merged['headline_text_merged'] = df_merged[\"headline_transformed\"] + df_merged[\"text_transformed\"]\n",
    "df_merged\n"
   ]
  },
  {
   "cell_type": "markdown",
   "metadata": {},
   "source": [
    "**Check if we have any nulls in the x column**"
   ]
  },
  {
   "cell_type": "code",
   "execution_count": 12,
   "metadata": {},
   "outputs": [
    {
     "data": {
      "text/plain": [
       "92"
      ]
     },
     "execution_count": 12,
     "metadata": {},
     "output_type": "execute_result"
    }
   ],
   "source": [
    "df_merged['headline_text_merged'].isna().sum()"
   ]
  },
  {
   "cell_type": "code",
   "execution_count": 13,
   "metadata": {},
   "outputs": [],
   "source": [
    "df_merged['headline_text_merged'] = df_merged['headline_text_merged'].dropna()"
   ]
  },
  {
   "cell_type": "markdown",
   "metadata": {},
   "source": [
    "**Randomly shuffle df and reset the index**"
   ]
  },
  {
   "cell_type": "code",
   "execution_count": 14,
   "metadata": {},
   "outputs": [],
   "source": [
    "df_merged = df_merged.sample(frac = 1)\n"
   ]
  },
  {
   "cell_type": "code",
   "execution_count": 15,
   "metadata": {},
   "outputs": [
    {
     "data": {
      "text/html": [
       "<div>\n",
       "<style scoped>\n",
       "    .dataframe tbody tr th:only-of-type {\n",
       "        vertical-align: middle;\n",
       "    }\n",
       "\n",
       "    .dataframe tbody tr th {\n",
       "        vertical-align: top;\n",
       "    }\n",
       "\n",
       "    .dataframe thead th {\n",
       "        text-align: right;\n",
       "    }\n",
       "</style>\n",
       "<table border=\"1\" class=\"dataframe\">\n",
       "  <thead>\n",
       "    <tr style=\"text-align: right;\">\n",
       "      <th></th>\n",
       "      <th>text_transformed</th>\n",
       "      <th>headline_transformed</th>\n",
       "      <th>class</th>\n",
       "      <th>headline_text_merged</th>\n",
       "    </tr>\n",
       "  </thead>\n",
       "  <tbody>\n",
       "    <tr>\n",
       "      <th>0</th>\n",
       "      <td>hillary clinton barely lost presidential elect...</td>\n",
       "      <td>hillary clinton huge trouble america noticed s...</td>\n",
       "      <td>0</td>\n",
       "      <td>hillary clinton huge trouble america noticed s...</td>\n",
       "    </tr>\n",
       "    <tr>\n",
       "      <th>1</th>\n",
       "      <td>tim brown monday man voted donald trump arrest...</td>\n",
       "      <td>comment texas police arrest trump voter wearin...</td>\n",
       "      <td>0</td>\n",
       "      <td>comment texas police arrest trump voter wearin...</td>\n",
       "    </tr>\n",
       "    <tr>\n",
       "      <th>2</th>\n",
       "      <td>colombia government urgently working congress ...</td>\n",
       "      <td>colombia urgently crafting law allow crime gan...</td>\n",
       "      <td>1</td>\n",
       "      <td>colombia urgently crafting law allow crime gan...</td>\n",
       "    </tr>\n",
       "    <tr>\n",
       "      <th>3</th>\n",
       "      <td>airline racing clock clear many customer possi...</td>\n",
       "      <td>u airline scramble evacuate resident ahead hur...</td>\n",
       "      <td>1</td>\n",
       "      <td>u airline scramble evacuate resident ahead hur...</td>\n",
       "    </tr>\n",
       "    <tr>\n",
       "      <th>4</th>\n",
       "      <td>south korean president moon jaein unveil array...</td>\n",
       "      <td>south korea moon try k pop tv star china charm...</td>\n",
       "      <td>1</td>\n",
       "      <td>south korea moon try k pop tv star china charm...</td>\n",
       "    </tr>\n",
       "    <tr>\n",
       "      <th>5</th>\n",
       "      <td>u transportation security administration said ...</td>\n",
       "      <td>u requires enhanced screening cargo turkey</td>\n",
       "      <td>1</td>\n",
       "      <td>u requires enhanced screening cargo turkey u t...</td>\n",
       "    </tr>\n",
       "    <tr>\n",
       "      <th>6</th>\n",
       "      <td>canada united state said tuesday cohost meetin...</td>\n",
       "      <td>canada u announce january meeting keep pressur...</td>\n",
       "      <td>1</td>\n",
       "      <td>canada u announce january meeting keep pressur...</td>\n",
       "    </tr>\n",
       "    <tr>\n",
       "      <th>7</th>\n",
       "      <td>secretary defense jim mattis indefinitely susp...</td>\n",
       "      <td>pentagon announces suspension military exercis...</td>\n",
       "      <td>1</td>\n",
       "      <td>pentagon announces suspension military exercis...</td>\n",
       "    </tr>\n",
       "    <tr>\n",
       "      <th>8</th>\n",
       "      <td>consequence matter one clear message football ...</td>\n",
       "      <td>online safety bill show blurred boundary free ...</td>\n",
       "      <td>1</td>\n",
       "      <td>online safety bill show blurred boundary free ...</td>\n",
       "    </tr>\n",
       "    <tr>\n",
       "      <th>9</th>\n",
       "      <td>u president donald trump went around great fir...</td>\n",
       "      <td>forbidden china trump skirt great firewall twe...</td>\n",
       "      <td>1</td>\n",
       "      <td>forbidden china trump skirt great firewall twe...</td>\n",
       "    </tr>\n",
       "  </tbody>\n",
       "</table>\n",
       "</div>"
      ],
      "text/plain": [
       "                                    text_transformed  \\\n",
       "0  hillary clinton barely lost presidential elect...   \n",
       "1  tim brown monday man voted donald trump arrest...   \n",
       "2  colombia government urgently working congress ...   \n",
       "3  airline racing clock clear many customer possi...   \n",
       "4  south korean president moon jaein unveil array...   \n",
       "5  u transportation security administration said ...   \n",
       "6  canada united state said tuesday cohost meetin...   \n",
       "7  secretary defense jim mattis indefinitely susp...   \n",
       "8  consequence matter one clear message football ...   \n",
       "9  u president donald trump went around great fir...   \n",
       "\n",
       "                                headline_transformed  class  \\\n",
       "0  hillary clinton huge trouble america noticed s...      0   \n",
       "1  comment texas police arrest trump voter wearin...      0   \n",
       "2  colombia urgently crafting law allow crime gan...      1   \n",
       "3  u airline scramble evacuate resident ahead hur...      1   \n",
       "4  south korea moon try k pop tv star china charm...      1   \n",
       "5        u requires enhanced screening cargo turkey       1   \n",
       "6  canada u announce january meeting keep pressur...      1   \n",
       "7  pentagon announces suspension military exercis...      1   \n",
       "8  online safety bill show blurred boundary free ...      1   \n",
       "9  forbidden china trump skirt great firewall twe...      1   \n",
       "\n",
       "                                headline_text_merged  \n",
       "0  hillary clinton huge trouble america noticed s...  \n",
       "1  comment texas police arrest trump voter wearin...  \n",
       "2  colombia urgently crafting law allow crime gan...  \n",
       "3  u airline scramble evacuate resident ahead hur...  \n",
       "4  south korea moon try k pop tv star china charm...  \n",
       "5  u requires enhanced screening cargo turkey u t...  \n",
       "6  canada u announce january meeting keep pressur...  \n",
       "7  pentagon announces suspension military exercis...  \n",
       "8  online safety bill show blurred boundary free ...  \n",
       "9  forbidden china trump skirt great firewall twe...  "
      ]
     },
     "execution_count": 15,
     "metadata": {},
     "output_type": "execute_result"
    }
   ],
   "source": [
    "df_merged.reset_index(inplace = True)\n",
    "df_merged.drop([\"index\"], axis = 1, inplace = True)\n",
    "df_merged.head(10)"
   ]
  },
  {
   "cell_type": "markdown",
   "metadata": {},
   "source": [
    "**X/y split**"
   ]
  },
  {
   "cell_type": "code",
   "execution_count": 16,
   "metadata": {},
   "outputs": [],
   "source": [
    "# lets test the article text and the headline and see which returns a better result\n",
    "\n",
    "X = df_merged['headline_text_merged']\n",
    "y = df_merged['class']"
   ]
  },
  {
   "cell_type": "markdown",
   "metadata": {},
   "source": [
    "**Testing some different ML algorithms**\n",
    "\n",
    "- we will try logistic regression, decision tree, random forest, KNN and support vector to classify our data.\n",
    "- before the classification stage we also need to transform our text into vectors (numeric representations of the text) so that the algorithm can process it.\n",
    "- i will use the TF IDF vectorizer.\n",
    "- TF stands for term frequency and is a measure of how frequently a term appears in a document.\n",
    "- IDF stands for inverse document frequency and is a measure of how important a term is in the corpus.\n",
    "- this process essentially turns the words into features for the algorithm to process."
   ]
  },
  {
   "cell_type": "code",
   "execution_count": 19,
   "metadata": {},
   "outputs": [],
   "source": [
    "\n",
    "def model_tester(X, y):\n",
    "\n",
    "    # x/y split\n",
    "\n",
    "    X_train, X_test, y_train, y_test = train_test_split(X, y, test_size=0.2, random_state=101)\n",
    "\n",
    "    # here are the 3 models we will try out\n",
    "\n",
    "    models = [\n",
    "        LogisticRegression(),\n",
    "        DecisionTreeClassifier(),\n",
    "        RandomForestClassifier(),\n",
    "        SVC(),\n",
    "        KNeighborsClassifier(n_neighbors=3)\n",
    "    ]\n",
    "\n",
    "    # we will use a pipeline here to quickly check all 3 models after vectorizing the X data\n",
    "    # vectorization maps the text to a corresponding vector of real numbers so that it can be processed by a ML algorithm\n",
    "\n",
    "    for model in models:\n",
    "        pipe = Pipeline(\n",
    "            steps=[\n",
    "            (\"tfidf\", TfidfVectorizer(lowercase=False, stop_words='english', decode_error='ignore')),\n",
    "            (\"classifier\", model),\n",
    "            ])\n",
    "        pipe.fit(X_train.values.astype('U'), y_train) \n",
    "        # print the scores for each model\n",
    "        print(model)\n",
    "        print(\"model score: %.3f\" % pipe.score(X_test.values.astype('U'), y_test))\n",
    "    \n",
    "\n"
   ]
  },
  {
   "cell_type": "code",
   "execution_count": 22,
   "metadata": {},
   "outputs": [
    {
     "name": "stdout",
     "output_type": "stream",
     "text": [
      "LogisticRegression()\n",
      "model score: 0.955\n",
      "DecisionTreeClassifier()\n",
      "model score: 0.891\n",
      "RandomForestClassifier()\n",
      "model score: 0.955\n",
      "SVC()\n",
      "model score: 0.963\n",
      "KNeighborsClassifier(n_neighbors=3)\n",
      "model score: 0.906\n"
     ]
    }
   ],
   "source": [
    "model_tester(X, y)"
   ]
  },
  {
   "cell_type": "markdown",
   "metadata": {},
   "source": [
    "**The best models are SVC, logistic regression and random forest**\n",
    "\n",
    "- Lets check the best parameters for each of these models using grid search"
   ]
  },
  {
   "cell_type": "code",
   "execution_count": 40,
   "metadata": {},
   "outputs": [],
   "source": [
    "# lets start with random forest\n",
    "def rf_best_params(X, y):\n",
    "\n",
    "    X_train, X_test, y_train, y_test = train_test_split(X, y, test_size=0.2, random_state=101)\n",
    "    \n",
    "    pipe = Pipeline(\n",
    "        steps= [\n",
    "        (\"tfidf\", TfidfVectorizer(lowercase=False, stop_words='english', decode_error='ignore')),\n",
    "        (\"classifier\", RandomForestClassifier())\n",
    "            ])\n",
    "    pipe.fit(X_train.values.astype('U'), y_train) \n",
    "\n",
    "    params = { \n",
    "        'tfidf__max_features':[100, 2000],\n",
    "        'tfidf__ngram_range': [(1, 1), (1, 2), (2, 2)],\n",
    "        'classifier__n_estimators': [200, 500],\n",
    "        'classifier__max_features': ['auto', 'sqrt', 'log2'],\n",
    "        'classifier__max_depth' : [4,5,6,7,8],\n",
    "        'classifier__criterion' :['gini', 'entropy']}\n",
    "        \n",
    "    CV = GridSearchCV(pipe, params, cv= 2, n_jobs= 2, verbose=1)\n",
    "                  \n",
    "    CV.fit(X_train.values.astype('U'), y_train)  \n",
    "    print(CV.best_params_)    \n",
    "    print(CV.best_score_)"
   ]
  },
  {
   "cell_type": "code",
   "execution_count": 41,
   "metadata": {},
   "outputs": [
    {
     "name": "stdout",
     "output_type": "stream",
     "text": [
      "Fitting 2 folds for each of 360 candidates, totalling 720 fits\n",
      "{'classifier__criterion': 'entropy', 'classifier__max_depth': 8, 'classifier__max_features': 'auto', 'classifier__n_estimators': 200, 'tfidf__max_features': 2000, 'tfidf__ngram_range': (1, 2)}\n",
      "0.9040565503030136\n"
     ]
    }
   ],
   "source": [
    "rf_best_params(X, y)"
   ]
  },
  {
   "cell_type": "code",
   "execution_count": 26,
   "metadata": {},
   "outputs": [],
   "source": [
    "# find best paramters for logistic regression\n",
    "def lr_best_params(X, y):\n",
    "    \n",
    "    X_train, X_test, y_train, y_test = train_test_split(X, y, test_size=0.2, random_state=101)\n",
    "    \n",
    "    pipe = Pipeline(\n",
    "        steps= [\n",
    "        (\"tfidf\", TfidfVectorizer(lowercase=False, stop_words='english', decode_error='ignore')),\n",
    "        (\"classifier\", LogisticRegression())\n",
    "            ])\n",
    "    pipe.fit(X_train.values.astype('U'), y_train) \n",
    "\n",
    "    params = { \n",
    "        'tfidf__max_features':[5000, None],\n",
    "        'tfidf__ngram_range': [(1, 1), (1, 2), (2, 2)],\n",
    "        'classifier__C': [0.01, 0.1, 1, 5],\n",
    "        'classifier__penalty': ['l1', 'l2']\n",
    "    }\n",
    "        \n",
    "        \n",
    "    CV = GridSearchCV(pipe, params, cv= 2, n_jobs= 2, verbose=1)\n",
    "                  \n",
    "    CV.fit(X_train.values.astype('U'), y_train)  \n",
    "    print(CV.best_params_)    \n",
    "    print(CV.best_score_)"
   ]
  },
  {
   "cell_type": "code",
   "execution_count": 27,
   "metadata": {},
   "outputs": [
    {
     "name": "stdout",
     "output_type": "stream",
     "text": [
      "Fitting 2 folds for each of 48 candidates, totalling 96 fits\n",
      "{'classifier__C': 5, 'classifier__penalty': 'l2', 'tfidf__max_features': None, 'tfidf__ngram_range': (1, 1)}\n",
      "0.9546109040154753\n"
     ]
    }
   ],
   "source": [
    "lr_best_params(X, y)"
   ]
  },
  {
   "cell_type": "code",
   "execution_count": 30,
   "metadata": {},
   "outputs": [],
   "source": [
    "# find best paramters for support vector machine\n",
    "def sv_best_params(X, y):\n",
    "    \n",
    "    X_train, X_test, y_train, y_test = train_test_split(X, y, test_size=0.2, random_state=101)\n",
    "    \n",
    "    pipe = Pipeline(\n",
    "        steps= [\n",
    "        (\"tfidf\", TfidfVectorizer(lowercase=False, stop_words='english', decode_error='ignore')),\n",
    "        (\"classifier\", SVC())\n",
    "            ])\n",
    "    pipe.fit(X_train.values.astype('U'), y_train) \n",
    "\n",
    "    params = { \n",
    "        'tfidf__max_features':[5000, None],\n",
    "        'tfidf__ngram_range': [(1, 1), (1, 2), (2, 2)],\n",
    "        'classifier__C': [0.01, 0.1, 1, 5],\n",
    "        'classifier__gamma': [1, 0.1, 0.01, 0.001],\n",
    "        'classifier__kernel': ['rbf', 'sigmoid', 'poly']\n",
    "    }\n",
    "        \n",
    "        \n",
    "    CV = GridSearchCV(pipe, params, cv= 2, n_jobs= 2, verbose=1)\n",
    "                  \n",
    "    CV.fit(X_train.values.astype('U'), y_train)  \n",
    "    print(CV.best_params_)    \n",
    "    print(CV.best_score_)"
   ]
  },
  {
   "cell_type": "code",
   "execution_count": 31,
   "metadata": {},
   "outputs": [
    {
     "name": "stdout",
     "output_type": "stream",
     "text": [
      "Fitting 2 folds for each of 288 candidates, totalling 576 fits\n"
     ]
    }
   ],
   "source": [
    "sv_best_params(X,y)"
   ]
  },
  {
   "cell_type": "markdown",
   "metadata": {},
   "source": [
    "**Most important features**\n",
    "\n",
    "- the scores returned from testing different models are all high so we could have overfitting. \n",
    "- for the random forest algorithm we can see which features are most important - the features we used are words turned into vectors so each word is essentially a feature. \n",
    "- this means we can use this function to see which words have the most predictive power for the rf model."
   ]
  },
  {
   "cell_type": "code",
   "execution_count": 13,
   "metadata": {},
   "outputs": [],
   "source": [
    "# the best rf model given above had entropy as the criterion so we will try this with the function.\n",
    "\n",
    "rf = RandomForestClassifier(criterion='entropy')"
   ]
  },
  {
   "cell_type": "code",
   "execution_count": 22,
   "metadata": {},
   "outputs": [],
   "source": [
    "def find_imp_features(X, y, classifier):\n",
    "\n",
    "    X_train, X_test, y_train, y_test = train_test_split(X, y, test_size=0.3, random_state=101)\n",
    "\n",
    "    vectorization = TfidfVectorizer()\n",
    "    vectorizer = vectorization.fit(X_train)\n",
    "    xv_train = vectorizer.transform(X_train)\n",
    "    xv_test = vectorizer.transform(X_test)\n",
    "\n",
    "    classifier.fit(xv_train, y_train)\n",
    "\n",
    "    new_train_df = pd.DataFrame()\n",
    "    new_test_df = pd.DataFrame()\n",
    "\n",
    "    for i, col in enumerate(vectorization.get_feature_names()):\n",
    "        new_train_df[col] = pd.arrays.SparseArray(xv_train[:, i].toarray().ravel(), fill_value=0)\n",
    "    \n",
    "    for i, col in enumerate(vectorization.get_feature_names()):\n",
    "        new_test_df[col] = pd.arrays.SparseArray(xv_test[:, i].toarray().ravel(), fill_value=0) \n",
    "\n",
    "    importances = classifier.feature_importances_\n",
    "    std = np.std([tree.feature_importances_ for tree in classifier.estimators_],\n",
    "             axis=0)\n",
    "    indices = np.argsort(importances)[::-1]\n",
    "\n",
    "    # Print the feature ranking\n",
    "    print(\"Feature ranking:\")\n",
    "\n",
    "    for f in range(0,20): \n",
    "        print(\"%d. feature %d (%f)\" % (f + 1, indices[f], importances[indices[f]]),new_train_df.iloc[:,indices[f]].name)\n",
    "\n",
    "    number_features_print = 10\n",
    "    height = [importances[indices[i]] for i in range(0,number_features_print)]\n",
    "    bars = [new_train_df.iloc[:,indices[x]].name for x in range(0,number_features_print)]\n",
    "\n",
    "\n",
    "    height.reverse()\n",
    "    bars.reverse()\n",
    "\n",
    "    y_pos = np.arange(len(bars))\n",
    " \n",
    "    #   Create horizontal bars\n",
    "    plt.barh(y_pos, height)\n",
    " \n",
    "    # Create names on the y-axis\n",
    "    plt.yticks(y_pos, bars)\n",
    "    plt.title('Top predictors',fontsize=19)\n",
    "    plt.yticks(fontsize=13)\n",
    "    plt.xticks(fontsize=13)\n",
    "    plt.ylabel('Word', fontsize = 16)\n",
    "    plt.xlabel('Random Forest Coefficient', fontsize = 16)\n",
    "    plt.figure(figsize=(13, 13))\n",
    "\n",
    "    # Show graphic\n",
    "    plt.show();"
   ]
  },
  {
   "cell_type": "code",
   "execution_count": 19,
   "metadata": {},
   "outputs": [
    {
     "name": "stdout",
     "output_type": "stream",
     "text": [
      "Feature ranking:\n",
      "1. feature 66480 (0.024041) said\n",
      "2. feature 1614 (0.015048) 2016\n",
      "3. feature 17610 (0.012449) clinton\n",
      "4. feature 36274 (0.012344) hillary\n",
      "5. feature 49542 (0.007520) minister\n",
      "6. feature 53928 (0.005974) november\n",
      "7. feature 31197 (0.005832) friday\n",
      "8. feature 9093 (0.005749) article\n",
      "9. feature 78006 (0.004397) tuesday\n",
      "10. feature 45179 (0.004283) like\n",
      "11. feature 64673 (0.004225) reuters\n",
      "12. feature 76297 (0.004214) thursday\n",
      "13. feature 60095 (0.004125) president\n",
      "14. feature 60276 (0.003985) prime\n",
      "15. feature 54582 (0.003954) october\n",
      "16. feature 26231 (0.003672) email\n",
      "17. feature 27643 (0.003594) even\n",
      "18. feature 33429 (0.003413) government\n",
      "19. feature 82218 (0.003220) wednesday\n",
      "20. feature 76742 (0.003202) told\n"
     ]
    },
    {
     "data": {
      "image/png": "[encoded data removed]",
      "text/plain": [
       "<Figure size 432x288 with 1 Axes>"
      ]
     },
     "metadata": {
      "needs_background": "light"
     },
     "output_type": "display_data"
    },
    {
     "data": {
      "text/plain": [
       "<Figure size 936x936 with 0 Axes>"
      ]
     },
     "metadata": {},
     "output_type": "display_data"
    }
   ],
   "source": [
    "find_imp_features(X_text, y_text, rf)"
   ]
  },
  {
   "cell_type": "code",
   "execution_count": 18,
   "metadata": {},
   "outputs": [
    {
     "ename": "AttributeError",
     "evalue": "'TfidfVectorizer' object has no attribute 'best_estimator_'",
     "output_type": "error",
     "traceback": [
      "\u001b[0;31m---------------------------------------------------------------------------\u001b[0m",
      "\u001b[0;31mAttributeError\u001b[0m                            Traceback (most recent call last)",
      "\u001b[0;32m<ipython-input-18-ee033cfac6b4>\u001b[0m in \u001b[0;36m<module>\u001b[0;34m\u001b[0m\n\u001b[1;32m     10\u001b[0m \u001b[0;34m\u001b[0m\u001b[0m\n\u001b[1;32m     11\u001b[0m \u001b[0mfeature_names\u001b[0m \u001b[0;34m=\u001b[0m \u001b[0mpipe\u001b[0m\u001b[0;34m.\u001b[0m\u001b[0mnamed_steps\u001b[0m\u001b[0;34m[\u001b[0m\u001b[0;34m\"tfidf\"\u001b[0m\u001b[0;34m]\u001b[0m\u001b[0;34m.\u001b[0m\u001b[0mget_feature_names\u001b[0m\u001b[0;34m(\u001b[0m\u001b[0;34m)\u001b[0m\u001b[0;34m\u001b[0m\u001b[0;34m\u001b[0m\u001b[0m\n\u001b[0;32m---> 12\u001b[0;31m \u001b[0mcoefs\u001b[0m \u001b[0;34m=\u001b[0m \u001b[0mpipe\u001b[0m\u001b[0;34m.\u001b[0m\u001b[0mnamed_steps\u001b[0m\u001b[0;34m[\u001b[0m\u001b[0;34m\"tfidf\"\u001b[0m\u001b[0;34m]\u001b[0m\u001b[0;34m.\u001b[0m\u001b[0mbest_estimator_\u001b[0m\u001b[0;34m.\u001b[0m\u001b[0mcoef_\u001b[0m\u001b[0;34m.\u001b[0m\u001b[0mflatten\u001b[0m\u001b[0;34m(\u001b[0m\u001b[0;34m)\u001b[0m\u001b[0;34m\u001b[0m\u001b[0;34m\u001b[0m\u001b[0m\n\u001b[0m\u001b[1;32m     13\u001b[0m \u001b[0;34m\u001b[0m\u001b[0m\n\u001b[1;32m     14\u001b[0m \u001b[0;31m# Zip coefficients and names together and make a DataFrame\u001b[0m\u001b[0;34m\u001b[0m\u001b[0;34m\u001b[0m\u001b[0;34m\u001b[0m\u001b[0m\n",
      "\u001b[0;31mAttributeError\u001b[0m: 'TfidfVectorizer' object has no attribute 'best_estimator_'"
     ]
    }
   ],
   "source": [
    "X_train, X_test, y_train, y_test = train_test_split(X, y, test_size=0.2, random_state=101)\n",
    "\n",
    "\n",
    "pipe = Pipeline(\n",
    "        steps= [\n",
    "        (\"tfidf\", TfidfVectorizer(lowercase=False, stop_words='english', decode_error='ignore')),\n",
    "        (\"classifier\", SVC())\n",
    "            ])\n",
    "pipe.fit(X_train.values.astype('U'), y_train) \n",
    "\n",
    "feature_names = pipe.named_steps[\"tfidf\"].get_feature_names()\n",
    "coefs = pipe.best_estimator_.named_steps['tfidf']\n",
    "\n",
    "\n",
    "# Zip coefficients and names together and make a DataFrame\n",
    "zipped = zip(feature_names, coefs)\n",
    "feature_imp = pd.DataFrame(zipped, columns=[\"feature\", \"value\"])\n",
    "# Sort the features by the absolute value of their coefficient\n",
    "feature_imp[\"abs_value\"] = feature_imp[\"value\"].apply(lambda x: abs(x))\n",
    "feature_imp[\"colors\"] = feature_imp[\"value\"].apply(lambda x: \"green\" if x > 0 else \"red\")\n",
    "feature_imp = feature_imp.sort_values(\"abs_value\", ascending=False)\n",
    "\n",
    "\n",
    "fig, ax = plt.subplots(1, 1, figsize=(12, 7))\n",
    "sns.barplot(x=\"feature\",\n",
    "            y=\"value\",\n",
    "            data=feature_imp.head(20),\n",
    "           palette=feature_imp.head(20)[\"colors\"])\n",
    "ax.set_xticklabels(ax.get_xticklabels(), rotation=90, fontsize=20)\n",
    "ax.set_title(\"Top 20 Features\", fontsize=25)\n",
    "ax.set_ylabel(\"Coef\", fontsize=22)\n",
    "ax.set_xlabel(\"Feature Name\", fontsize=22)\n",
    "\n",
    "\n",
    "\n"
   ]
  },
  {
   "cell_type": "code",
   "execution_count": null,
   "metadata": {},
   "outputs": [],
   "source": []
  },
  {
   "cell_type": "code",
   "execution_count": null,
   "metadata": {},
   "outputs": [],
   "source": []
  },
  {
   "cell_type": "code",
   "execution_count": null,
   "metadata": {},
   "outputs": [],
   "source": []
  },
  {
   "cell_type": "code",
   "execution_count": null,
   "metadata": {},
   "outputs": [],
   "source": []
  },
  {
   "cell_type": "code",
   "execution_count": null,
   "metadata": {},
   "outputs": [],
   "source": []
  },
  {
   "cell_type": "markdown",
   "metadata": {},
   "source": [
    "**Metrics** \n",
    "- ROC-AOC\n",
    "- confusion matrices"
   ]
  },
  {
   "cell_type": "code",
   "execution_count": null,
   "metadata": {},
   "outputs": [],
   "source": []
  },
  {
   "cell_type": "code",
   "execution_count": null,
   "metadata": {},
   "outputs": [],
   "source": []
  },
  {
   "cell_type": "code",
   "execution_count": null,
   "metadata": {},
   "outputs": [],
   "source": []
  },
  {
   "cell_type": "markdown",
   "metadata": {},
   "source": [
    "**Lets test the algorithm with some real and fake news texts and see what it predicts**"
   ]
  },
  {
   "cell_type": "code",
   "execution_count": 27,
   "metadata": {},
   "outputs": [
    {
     "data": {
      "text/plain": [
       "SVC(random_state=101)"
      ]
     },
     "execution_count": 27,
     "metadata": {},
     "output_type": "execute_result"
    }
   ],
   "source": [
    "# support vector machine was the best model so I will use this one for the predictions\n",
    "\n",
    "X_train, X_test, y_train, y_test = train_test_split(X, y, test_size=0.2, random_state=101)\n",
    "\n",
    "tfidf = TfidfVectorizer(lowercase=False, stop_words='english', decode_error='ignore', ngram_range=(1,1))\n",
    "    \n",
    "vector = tfidf.fit(X_train.values.astype('U'))\n",
    "xv_train = vector.transform(X_train.values.astype('U'))\n",
    "xv_test = vector.transform(X_test.values.astype('U'))\n",
    "\n",
    "SV = SVC(random_state=101)\n",
    "\n",
    "SV.fit(xv_train, y_train)"
   ]
  },
  {
   "cell_type": "code",
   "execution_count": 23,
   "metadata": {},
   "outputs": [],
   "source": [
    "stopwords = nltk.corpus.stopwords.words('english')\n",
    "lemma = WordNetLemmatizer()\n",
    "\n",
    "#Function for removing the stopwords and lemmatizing the text \n",
    "def text_transform(text):\n",
    "    #Defining empty string\n",
    "    string = \"\"\n",
    "    \n",
    "    for word in str(text).split():\n",
    "        if word not in stopwords:\n",
    "            string+=lemma.lemmatize(word)+\" \"\n",
    "    \n",
    "    return string"
   ]
  },
  {
   "cell_type": "code",
   "execution_count": 28,
   "metadata": {},
   "outputs": [],
   "source": [
    "def fake_or_real():\n",
    "\n",
    "    text = input(\"Enter text here\")\n",
    "\n",
    "    text_cleaned = text_transform(text)    \n",
    "\n",
    "    X = vector.transform([text_cleaned])\n",
    "   \n",
    "    predicted_class = SV.predict(X)\n",
    "    print(predicted_class)\n",
    "    \n",
    "    if predicted_class == 0:\n",
    "        print(text)\n",
    "        return  \"Prediction: Fake news!\"\n",
    "    else:\n",
    "        print(text)\n",
    "        return \"Prediction: real news!\"\n",
    "    "
   ]
  },
  {
   "cell_type": "code",
   "execution_count": 29,
   "metadata": {},
   "outputs": [
    {
     "name": "stdout",
     "output_type": "stream",
     "text": [
      "[1]\n",
      "Qualcomm Inc (QCOM.O) said on Tuesday it expects chip sales to Apple Inc (AAPL.O) to dwindle to a trickle in the coming years but predicted brisk growth in chips for autonomous cars and other connected devices, sending shares up 7.9% to a record high close of $181.81\n"
     ]
    },
    {
     "data": {
      "text/plain": [
       "'Prediction: real news!'"
      ]
     },
     "execution_count": 29,
     "metadata": {},
     "output_type": "execute_result"
    }
   ],
   "source": [
    "fake_or_real()"
   ]
  },
  {
   "cell_type": "code",
   "execution_count": 30,
   "metadata": {},
   "outputs": [
    {
     "name": "stdout",
     "output_type": "stream",
     "text": [
      "[0]\n",
      "\"Daniel Greenfield, a Shillman Journalism Fellow at the Freedom Center, is a New York writer focusing on radical Islam.  In the final stretch of the election, Hillary Rodham Clinton has gone to war with the FBI.  The word “unprecedented” has been thrown around so often this election that it ought to be retired. But it’s still unprecedented for the nominee of a major political party to go war with the FBI.  But that’s exactly what Hillary and her people have done. Coma patients just waking up now and watching an hour of CNN from their hospital beds would assume that FBI Director James Comey is Hillary’s opponent in this election.  The FBI is under attack by everyone from Obama to CNN. Hillary’s people have circulated a letter attacking Comey. There are currently more media hit pieces lambasting him than targeting Trump. It wouldn’t be too surprising if the Clintons or their allies were to start running attack ads against the FBI.  The FBI’s leadership is being warned that the entire left-wing establishment will form a lynch mob if they continue going after Hillary. And the FBI’s credibility is being attacked by the media and the Democrats to preemptively head off the results of the investigation of the Clinton Foundation and Hillary Clinton.  The covert struggle between FBI agents and Obama’s DOJ people has gone explosively public.  The New York Times has compared Comey to J. Edgar Hoover. Its bizarre headline, “James Comey Role Recalls Hoover’s FBI, Fairly or Not” practically admits up front that it’s spouting nonsense. The Boston Globe has published a column calling for Comey’s resignation. Not to be outdone, Time has an editorial claiming that the scandal is really an attack on all women.  James Carville appeared on MSNBC to remind everyone that he was still alive and insane. He accused Comey of coordinating with House Republicans and the KGB. And you thought the “vast right wing conspiracy” was a stretch.  Countless media stories charge Comey with violating procedure. Do you know what’s a procedural violation? Emailing classified information stored on your bathroom server.  Senator Harry Reid has sent Comey a letter accusing him of violating the Hatch Act. The Hatch Act is a nice idea that has as much relevance in the age of Obama as the Tenth Amendment. But the cable news spectrum quickly filled with media hacks glancing at the Wikipedia article on the Hatch Act under the table while accusing the FBI director of one of the most awkward conspiracies against Hillary ever.  If James Comey is really out to hurt Hillary, he picked one hell of a strange way to do it.  Not too long ago Democrats were breathing a sigh of relief when he gave Hillary Clinton a pass in a prominent public statement. If he really were out to elect Trump by keeping the email scandal going, why did he trash the investigation? Was he on the payroll of House Republicans and the KGB back then and playing it coy or was it a sudden development where Vladimir Putin and Paul Ryan talked him into taking a look at Anthony Weiner’s computer?  Either Comey is the most cunning FBI director that ever lived or he’s just awkwardly trying to navigate a political mess that has trapped him between a DOJ leadership whose political futures are tied to Hillary’s victory and his own bureau whose apolitical agents just want to be allowed to do their jobs.  The only truly mysterious thing is why Hillary and her associates decided to go to war with a respected Federal agency. Most Americans like the FBI while Hillary Clinton enjoys a 60% unfavorable rating.  And it’s an interesting question.  Hillary’s old strategy was to lie and deny that the FBI even had a criminal investigation underway. Instead her associates insisted that it was a security review. The FBI corrected her and she shrugged it off. But the old breezy denial approach has given way to a savage assault on the FBI.  Pretending that nothing was wrong was a bad strategy, but it was a better one that picking a fight with the FBI while lunatic Clinton associates try to claim that the FBI is really the KGB.  There are two possible explanations.  Hillary Clinton might be arrogant enough to lash out at the FBI now that she believes that victory is near. The same kind of hubris that led her to plan her victory fireworks display could lead her to declare a war on the FBI for irritating her during the final miles of her campaign.  But the other explanation is that her people panicked.  Going to war with the FBI is not the behavior of a smart and focused presidential campaign. It’s an act of desperation. When a presidential candidate decides that her only option is to try and destroy the credibility of the FBI, that’s not hubris, it’s fear of what the FBI might be about to reveal about her.  During the original FBI investigation, Hillary Clinton was confident that she could ride it out. And she had good reason for believing that. But that Hillary Clinton is gone. In her place is a paranoid wreck. Within a short space of time the “positive” Clinton campaign promising to unite the country has been replaced by a desperate and flailing operation that has focused all its energy on fighting the FBI.  There’s only one reason for such bizarre behavior.  The Clinton campaign has decided that an FBI investigation of the latest batch of emails poses a threat to its survival. And so it’s gone all in on fighting the FBI. It’s an unprecedented step born of fear. It’s hard to know whether that fear is justified. But the existence of that fear already tells us a whole lot.  Clinton loyalists rigged the old investigation. They knew the outcome ahead of time as well as they knew the debate questions. Now suddenly they are no longer in control. And they are afraid.  You can smell the fear.  The FBI has wiretaps from the investigation of the Clinton Foundation. It’s finding new emails all the time. And Clintonworld panicked. The spinmeisters of Clintonworld have claimed that the email scandal is just so much smoke without fire. All that’s here is the appearance of impropriety without any of the substance. But this isn’t how you react to smoke. It’s how you respond to a fire.  The misguided assault on the FBI tells us that Hillary Clinton and her allies are afraid of a revelation bigger than the fundamental illegality of her email setup. The email setup was a preemptive cover up. The Clinton campaign has panicked badly out of the belief, right or wrong, that whatever crime the illegal setup was meant to cover up is at risk of being exposed.  The Clintons have weathered countless scandals over the years. Whatever they are protecting this time around is bigger than the usual corruption, bribery, sexual assaults and abuses of power that have followed them around throughout the years. This is bigger and more damaging than any of the allegations that have already come out. And they don’t want FBI investigators anywhere near it.  The campaign against Comey is pure intimidation. It’s also a warning. Any senior FBI people who value their careers are being warned to stay away. The Democrats are closing ranks around their nominee against the FBI. It’s an ugly and unprecedented scene. It may also be their last stand.  Hillary Clinton has awkwardly wound her way through numerous scandals in just this election cycle. But she’s never shown fear or desperation before. Now that has changed. Whatever she is afraid of, it lies buried in her emails with Huma Abedin. And it can bring her down like nothing else has.\"\n"
     ]
    },
    {
     "data": {
      "text/plain": [
       "'Prediction: Fake news!'"
      ]
     },
     "execution_count": 30,
     "metadata": {},
     "output_type": "execute_result"
    }
   ],
   "source": [
    "fake_or_real()"
   ]
  },
  {
   "cell_type": "code",
   "execution_count": 31,
   "metadata": {},
   "outputs": [
    {
     "name": "stdout",
     "output_type": "stream",
     "text": [
      "[1]\n",
      "\"U.S. Secretary of State John F. Kerry said Monday that he will stop in Paris later this week, amid criticism that no top American officials attended Sunday’s unity march against terrorism.  Kerry said he expects to arrive in Paris Thursday evening, as he heads home after a week abroad. He said he will fly to France at the conclusion of a series of meetings scheduled for Thursday in Sofia, Bulgaria. He plans to meet the next day with Foreign Minister Laurent Fabius and President Francois Hollande, then return to Washington.  The visit by Kerry, who has family and childhood ties to the country and speaks fluent French, could address some of the criticism that the United States snubbed France in its darkest hour in many years.  The French press on Monday was filled with questions about why neither President Obama nor Kerry attended Sunday’s march, as about 40 leaders of other nations did. Obama was said to have stayed away because his own security needs can be taxing on a country, and Kerry had prior commitments.  Among roughly 40 leaders who did attend was Israeli Prime Minister Benjamin Netanyahu, no stranger to intense security, who marched beside Hollande through the city streets. The highest ranking U.S. officials attending the march were Jane Hartley, the ambassador to France, and Victoria Nuland, the assistant secretary of state for European affairs. Attorney General Eric H. Holder Jr. was in Paris for meetings with law enforcement officials but did not participate in the march.  Kerry spent Sunday at a business summit hosted by India’s prime minister, Narendra Modi. The United States is eager for India to relax stringent laws that function as barriers to foreign investment and hopes Modi’s government will act to open the huge Indian market for more American businesses.  In a news conference, Kerry brushed aside criticism that the United States had not sent a more senior official to Paris as “quibbling a little bit.” He noted that many staffers of the American Embassy in Paris attended the march, including the ambassador. He said he had wanted to be present at the march himself but could not because of his prior commitments in India.  “But that is why I am going there on the way home, to make it crystal clear how passionately we feel about the events that have taken place there,” he said.  “And I don’t think the people of France have any doubts about America’s understanding of what happened, of our personal sense of loss and our deep commitment to the people of France in this moment of trauma.”\"\n"
     ]
    },
    {
     "data": {
      "text/plain": [
       "'Prediction: real news!'"
      ]
     },
     "execution_count": 31,
     "metadata": {},
     "output_type": "execute_result"
    }
   ],
   "source": [
    "fake_or_real()"
   ]
  }
 ],
 "metadata": {
  "interpreter": {
   "hash": "576841b4f7799d251ae57aad53f0bddb5c298a2c04b91f5151e4f2b208165af8"
  },
  "kernelspec": {
   "display_name": "Python 3.8.8 64-bit ('base': conda)",
   "language": "python",
   "name": "python3"
  },
  "language_info": {
   "codemirror_mode": {
    "name": "ipython",
    "version": 3
   },
   "file_extension": ".py",
   "mimetype": "text/x-python",
   "name": "python",
   "nbconvert_exporter": "python",
   "pygments_lexer": "ipython3",
   "version": "3.8.8"
  },
  "orig_nbformat": 4
 },
 "nbformat": 4,
 "nbformat_minor": 2
}
