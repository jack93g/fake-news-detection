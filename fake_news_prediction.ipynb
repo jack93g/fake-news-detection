{
 "cells": [
  {
   "cell_type": "markdown",
   "metadata": {},
   "source": [
    "## **Fake news prediction**\n",
    "\n",
    "Now it's time to apply some ML algorithms to our data and try to make a model which can distinguish between fake and real news articles"
   ]
  },
  {
   "cell_type": "code",
   "execution_count": 2,
   "metadata": {},
   "outputs": [],
   "source": [
    "import pandas as pd\n",
    "import numpy as np\n",
    "from matplotlib import pyplot as plt\n",
    "import seaborn as sns\n",
    "from sklearn.model_selection import train_test_split, GridSearchCV, cross_val_score\n",
    "from sklearn.metrics import classification_report, roc_auc_score, plot_roc_curve, plot_confusion_matrix, accuracy_score, f1_score\n",
    "from sklearn import metrics\n",
    "from sklearn.feature_extraction.text import TfidfVectorizer\n",
    "from sklearn.linear_model import LogisticRegression\n",
    "from sklearn.ensemble import RandomForestClassifier\n",
    "from sklearn.tree import DecisionTreeClassifier\n",
    "from sklearn.neighbors import KNeighborsClassifier\n",
    "from sklearn.svm import SVC\n",
    "from sklearn.pipeline import Pipeline\n",
    "import nltk\n",
    "from nltk.stem import WordNetLemmatizer\n",
    "import warnings\n",
    "warnings.filterwarnings(\"ignore\")"
   ]
  },
  {
   "cell_type": "code",
   "execution_count": 3,
   "metadata": {},
   "outputs": [],
   "source": [
    "news_df = pd.read_csv('news_df_cleaned.csv')"
   ]
  },
  {
   "cell_type": "code",
   "execution_count": 3,
   "metadata": {},
   "outputs": [
    {
     "data": {
      "text/plain": [
       "<AxesSubplot:xlabel='classification'>"
      ]
     },
     "execution_count": 3,
     "metadata": {},
     "output_type": "execute_result"
    },
    {
     "data": {
      "image/png": "[encoded data removed]",
      "text/plain": [
       "<Figure size 432x288 with 1 Axes>"
      ]
     },
     "metadata": {
      "needs_background": "light"
     },
     "output_type": "display_data"
    }
   ],
   "source": [
    "# check we have an even distribution of fake and real news\n",
    "\n",
    "news_df.groupby(['classification']).size().plot(kind='bar')"
   ]
  },
  {
   "cell_type": "code",
   "execution_count": 4,
   "metadata": {},
   "outputs": [],
   "source": [
    "fake_df = news_df[news_df['classification'] == 'fake']\n",
    "real_df = news_df[news_df['classification'] == 'real']"
   ]
  },
  {
   "cell_type": "markdown",
   "metadata": {},
   "source": [
    "**Convert the clasification column to an integer so the models can process it**"
   ]
  },
  {
   "cell_type": "code",
   "execution_count": 5,
   "metadata": {},
   "outputs": [],
   "source": [
    "fake_df[\"class\"] = 0\n",
    "real_df[\"class\"] = 1"
   ]
  },
  {
   "cell_type": "markdown",
   "metadata": {},
   "source": [
    "**Merging the two dfs into one df again**"
   ]
  },
  {
   "cell_type": "code",
   "execution_count": 6,
   "metadata": {},
   "outputs": [
    {
     "data": {
      "text/html": [
       "<div>\n",
       "<style scoped>\n",
       "    .dataframe tbody tr th:only-of-type {\n",
       "        vertical-align: middle;\n",
       "    }\n",
       "\n",
       "    .dataframe tbody tr th {\n",
       "        vertical-align: top;\n",
       "    }\n",
       "\n",
       "    .dataframe thead th {\n",
       "        text-align: right;\n",
       "    }\n",
       "</style>\n",
       "<table border=\"1\" class=\"dataframe\">\n",
       "  <thead>\n",
       "    <tr style=\"text-align: right;\">\n",
       "      <th></th>\n",
       "      <th>headline</th>\n",
       "      <th>text</th>\n",
       "      <th>classification</th>\n",
       "      <th>text_cleaned</th>\n",
       "      <th>text_transformed</th>\n",
       "      <th>headline_cleaned</th>\n",
       "      <th>headline_transformed</th>\n",
       "      <th>headline_text_merged</th>\n",
       "      <th>class</th>\n",
       "    </tr>\n",
       "  </thead>\n",
       "  <tbody>\n",
       "    <tr>\n",
       "      <th>7262</th>\n",
       "      <td>WikiLeaks: Podesta Had Disturbing ‘Beyond Disc...</td>\n",
       "      <td>by Baxter Dmitry in News , US // 0 Comments  ...</td>\n",
       "      <td>fake</td>\n",
       "      <td>by baxter dmitry in news us comments a new wi...</td>\n",
       "      <td>baxter dmitry news u comment new wikileaks ema...</td>\n",
       "      <td>wikileaks podesta had disturbing beyond discip...</td>\n",
       "      <td>wikileaks podesta disturbing beyond discipline...</td>\n",
       "      <td>wikileaks podesta disturbing beyond discipline...</td>\n",
       "      <td>0</td>\n",
       "    </tr>\n",
       "    <tr>\n",
       "      <th>7263</th>\n",
       "      <td>Trump elected as President – risks and opportu...</td>\n",
       "      <td>13904 Views November 09, 2016 193 Comments Ana...</td>\n",
       "      <td>fake</td>\n",
       "      <td>views november comments analyses the saker so...</td>\n",
       "      <td>view november comment analysis saker happened ...</td>\n",
       "      <td>trump elected as president risks and opportuni...</td>\n",
       "      <td>trump elected president risk opportunity</td>\n",
       "      <td>trump elected president risk opportunity view ...</td>\n",
       "      <td>0</td>\n",
       "    </tr>\n",
       "    <tr>\n",
       "      <th>7264</th>\n",
       "      <td>Break the Silence or Support Self-Determinatio...</td>\n",
       "      <td>B y Danny Haiphong S yria is “the target of on...</td>\n",
       "      <td>fake</td>\n",
       "      <td>b y danny haiphong s yria is the target of one...</td>\n",
       "      <td>b danny haiphong yria target one greatest misi...</td>\n",
       "      <td>break the silence or support self determinatio...</td>\n",
       "      <td>break silence support self determination syria...</td>\n",
       "      <td>break silence support self determination syria...</td>\n",
       "      <td>0</td>\n",
       "    </tr>\n",
       "    <tr>\n",
       "      <th>7265</th>\n",
       "      <td>Re: donald-trump-accepts-the-nomination-public...</td>\n",
       "      <td>Wilderness Survival Copyright © 2016 The Econo...</td>\n",
       "      <td>fake</td>\n",
       "      <td>wilderness survival copyright the economic col...</td>\n",
       "      <td>wilderness survival copyright economic collaps...</td>\n",
       "      <td>re donald trump accepts the nomination public ...</td>\n",
       "      <td>donald trump accepts nomination public domain</td>\n",
       "      <td>donald trump accepts nomination public domain ...</td>\n",
       "      <td>0</td>\n",
       "    </tr>\n",
       "    <tr>\n",
       "      <th>7266</th>\n",
       "      <td>Re: More Than 101 Million Working Age American...</td>\n",
       "      <td>More Than 101 Million Working Age Americans Do...</td>\n",
       "      <td>fake</td>\n",
       "      <td>more than million working age americans do not...</td>\n",
       "      <td>million working age american job michael snyde...</td>\n",
       "      <td>re more than million working age americans do ...</td>\n",
       "      <td>million working age american job</td>\n",
       "      <td>million working age american job million worki...</td>\n",
       "      <td>0</td>\n",
       "    </tr>\n",
       "    <tr>\n",
       "      <th>...</th>\n",
       "      <td>...</td>\n",
       "      <td>...</td>\n",
       "      <td>...</td>\n",
       "      <td>...</td>\n",
       "      <td>...</td>\n",
       "      <td>...</td>\n",
       "      <td>...</td>\n",
       "      <td>...</td>\n",
       "      <td>...</td>\n",
       "    </tr>\n",
       "    <tr>\n",
       "      <th>7257</th>\n",
       "      <td>2020 Census Results Show Big Changes to Americ...</td>\n",
       "      <td>According to the 2020 United States Census, th...</td>\n",
       "      <td>real</td>\n",
       "      <td>according to the united states census the u s ...</td>\n",
       "      <td>according united state census u white hispanic...</td>\n",
       "      <td>census results show big changes to america s ...</td>\n",
       "      <td>census result show big change america racial e...</td>\n",
       "      <td>census result show big change america racial e...</td>\n",
       "      <td>1</td>\n",
       "    </tr>\n",
       "    <tr>\n",
       "      <th>7258</th>\n",
       "      <td>Dems and GOP Strike Short-Term Deal on Debt, b...</td>\n",
       "      <td>Democrats and Republicans have reached a tempo...</td>\n",
       "      <td>real</td>\n",
       "      <td>democrats and republicans have reached a tempo...</td>\n",
       "      <td>democrat republican reached temporary solution...</td>\n",
       "      <td>dems and gop strike short term deal on debt bu...</td>\n",
       "      <td>dems gop strike short term deal debt larger di...</td>\n",
       "      <td>dems gop strike short term deal debt larger di...</td>\n",
       "      <td>1</td>\n",
       "    </tr>\n",
       "    <tr>\n",
       "      <th>7259</th>\n",
       "      <td>January 6 Committee Votes to Hold Steve Bannon...</td>\n",
       "      <td>On Tuesday evening, the House Committee invest...</td>\n",
       "      <td>real</td>\n",
       "      <td>on tuesday evening the house committee investi...</td>\n",
       "      <td>tuesday evening house committee investigating ...</td>\n",
       "      <td>january committee votes to hold steve bannon i...</td>\n",
       "      <td>january committee vote hold steve bannon conte...</td>\n",
       "      <td>january committee vote hold steve bannon conte...</td>\n",
       "      <td>1</td>\n",
       "    </tr>\n",
       "    <tr>\n",
       "      <th>7260</th>\n",
       "      <td>Biden Picks Susan Rice to Lead Domestic Policy...</td>\n",
       "      <td>Statecertified 2020 presidential election winn...</td>\n",
       "      <td>real</td>\n",
       "      <td>statecertified presidential election winner jo...</td>\n",
       "      <td>statecertified presidential election winner jo...</td>\n",
       "      <td>biden picks susan rice to lead domestic policy...</td>\n",
       "      <td>biden pick susan rice lead domestic policy cou...</td>\n",
       "      <td>biden pick susan rice lead domestic policy cou...</td>\n",
       "      <td>1</td>\n",
       "    </tr>\n",
       "    <tr>\n",
       "      <th>7261</th>\n",
       "      <td>Report Claims GOP Lawmakers, White House Staff...</td>\n",
       "      <td>A report from Rolling Stone (Left bias) claims...</td>\n",
       "      <td>real</td>\n",
       "      <td>a report from rolling stone left bias claims r...</td>\n",
       "      <td>report rolling stone left bias claim republica...</td>\n",
       "      <td>report claims gop lawmakers white house staff ...</td>\n",
       "      <td>report claim gop lawmaker white house staff he...</td>\n",
       "      <td>report claim gop lawmaker white house staff he...</td>\n",
       "      <td>1</td>\n",
       "    </tr>\n",
       "  </tbody>\n",
       "</table>\n",
       "<p>14762 rows × 9 columns</p>\n",
       "</div>"
      ],
      "text/plain": [
       "                                               headline  \\\n",
       "7262  WikiLeaks: Podesta Had Disturbing ‘Beyond Disc...   \n",
       "7263  Trump elected as President – risks and opportu...   \n",
       "7264  Break the Silence or Support Self-Determinatio...   \n",
       "7265  Re: donald-trump-accepts-the-nomination-public...   \n",
       "7266  Re: More Than 101 Million Working Age American...   \n",
       "...                                                 ...   \n",
       "7257  2020 Census Results Show Big Changes to Americ...   \n",
       "7258  Dems and GOP Strike Short-Term Deal on Debt, b...   \n",
       "7259  January 6 Committee Votes to Hold Steve Bannon...   \n",
       "7260  Biden Picks Susan Rice to Lead Domestic Policy...   \n",
       "7261  Report Claims GOP Lawmakers, White House Staff...   \n",
       "\n",
       "                                                   text classification  \\\n",
       "7262   by Baxter Dmitry in News , US // 0 Comments  ...           fake   \n",
       "7263  13904 Views November 09, 2016 193 Comments Ana...           fake   \n",
       "7264  B y Danny Haiphong S yria is “the target of on...           fake   \n",
       "7265  Wilderness Survival Copyright © 2016 The Econo...           fake   \n",
       "7266  More Than 101 Million Working Age Americans Do...           fake   \n",
       "...                                                 ...            ...   \n",
       "7257  According to the 2020 United States Census, th...           real   \n",
       "7258  Democrats and Republicans have reached a tempo...           real   \n",
       "7259  On Tuesday evening, the House Committee invest...           real   \n",
       "7260  Statecertified 2020 presidential election winn...           real   \n",
       "7261  A report from Rolling Stone (Left bias) claims...           real   \n",
       "\n",
       "                                           text_cleaned  \\\n",
       "7262   by baxter dmitry in news us comments a new wi...   \n",
       "7263   views november comments analyses the saker so...   \n",
       "7264  b y danny haiphong s yria is the target of one...   \n",
       "7265  wilderness survival copyright the economic col...   \n",
       "7266  more than million working age americans do not...   \n",
       "...                                                 ...   \n",
       "7257  according to the united states census the u s ...   \n",
       "7258  democrats and republicans have reached a tempo...   \n",
       "7259  on tuesday evening the house committee investi...   \n",
       "7260  statecertified presidential election winner jo...   \n",
       "7261  a report from rolling stone left bias claims r...   \n",
       "\n",
       "                                       text_transformed  \\\n",
       "7262  baxter dmitry news u comment new wikileaks ema...   \n",
       "7263  view november comment analysis saker happened ...   \n",
       "7264  b danny haiphong yria target one greatest misi...   \n",
       "7265  wilderness survival copyright economic collaps...   \n",
       "7266  million working age american job michael snyde...   \n",
       "...                                                 ...   \n",
       "7257  according united state census u white hispanic...   \n",
       "7258  democrat republican reached temporary solution...   \n",
       "7259  tuesday evening house committee investigating ...   \n",
       "7260  statecertified presidential election winner jo...   \n",
       "7261  report rolling stone left bias claim republica...   \n",
       "\n",
       "                                       headline_cleaned  \\\n",
       "7262  wikileaks podesta had disturbing beyond discip...   \n",
       "7263  trump elected as president risks and opportuni...   \n",
       "7264  break the silence or support self determinatio...   \n",
       "7265  re donald trump accepts the nomination public ...   \n",
       "7266  re more than million working age americans do ...   \n",
       "...                                                 ...   \n",
       "7257   census results show big changes to america s ...   \n",
       "7258  dems and gop strike short term deal on debt bu...   \n",
       "7259  january committee votes to hold steve bannon i...   \n",
       "7260  biden picks susan rice to lead domestic policy...   \n",
       "7261  report claims gop lawmakers white house staff ...   \n",
       "\n",
       "                                   headline_transformed  \\\n",
       "7262  wikileaks podesta disturbing beyond discipline...   \n",
       "7263          trump elected president risk opportunity    \n",
       "7264  break silence support self determination syria...   \n",
       "7265     donald trump accepts nomination public domain    \n",
       "7266                  million working age american job    \n",
       "...                                                 ...   \n",
       "7257  census result show big change america racial e...   \n",
       "7258  dems gop strike short term deal debt larger di...   \n",
       "7259  january committee vote hold steve bannon conte...   \n",
       "7260  biden pick susan rice lead domestic policy cou...   \n",
       "7261  report claim gop lawmaker white house staff he...   \n",
       "\n",
       "                                   headline_text_merged  class  \n",
       "7262  wikileaks podesta disturbing beyond discipline...      0  \n",
       "7263  trump elected president risk opportunity view ...      0  \n",
       "7264  break silence support self determination syria...      0  \n",
       "7265  donald trump accepts nomination public domain ...      0  \n",
       "7266  million working age american job million worki...      0  \n",
       "...                                                 ...    ...  \n",
       "7257  census result show big change america racial e...      1  \n",
       "7258  dems gop strike short term deal debt larger di...      1  \n",
       "7259  january committee vote hold steve bannon conte...      1  \n",
       "7260  biden pick susan rice lead domestic policy cou...      1  \n",
       "7261  report claim gop lawmaker white house staff he...      1  \n",
       "\n",
       "[14762 rows x 9 columns]"
      ]
     },
     "execution_count": 6,
     "metadata": {},
     "output_type": "execute_result"
    }
   ],
   "source": [
    "df_merged = pd.concat([fake_df, real_df], axis =0 )\n",
    "df_merged"
   ]
  },
  {
   "cell_type": "markdown",
   "metadata": {},
   "source": [
    "**Dropping the unecessary columns**"
   ]
  },
  {
   "cell_type": "code",
   "execution_count": 7,
   "metadata": {},
   "outputs": [],
   "source": [
    "df_merged = df_merged.drop(columns=['headline', 'text', 'classification', \n",
    "'text_cleaned', 'headline_cleaned'])"
   ]
  },
  {
   "cell_type": "code",
   "execution_count": 8,
   "metadata": {},
   "outputs": [],
   "source": [
    "df_merged['headline_text_merged'] = df_merged['headline_text_merged'].dropna()"
   ]
  },
  {
   "cell_type": "markdown",
   "metadata": {},
   "source": [
    "**Randomly shuffle df and reset the index**"
   ]
  },
  {
   "cell_type": "code",
   "execution_count": 9,
   "metadata": {},
   "outputs": [],
   "source": [
    "df_merged = df_merged.sample(frac = 1)"
   ]
  },
  {
   "cell_type": "code",
   "execution_count": 10,
   "metadata": {},
   "outputs": [
    {
     "data": {
      "text/html": [
       "<div>\n",
       "<style scoped>\n",
       "    .dataframe tbody tr th:only-of-type {\n",
       "        vertical-align: middle;\n",
       "    }\n",
       "\n",
       "    .dataframe tbody tr th {\n",
       "        vertical-align: top;\n",
       "    }\n",
       "\n",
       "    .dataframe thead th {\n",
       "        text-align: right;\n",
       "    }\n",
       "</style>\n",
       "<table border=\"1\" class=\"dataframe\">\n",
       "  <thead>\n",
       "    <tr style=\"text-align: right;\">\n",
       "      <th></th>\n",
       "      <th>text_transformed</th>\n",
       "      <th>headline_transformed</th>\n",
       "      <th>headline_text_merged</th>\n",
       "      <th>class</th>\n",
       "    </tr>\n",
       "  </thead>\n",
       "  <tbody>\n",
       "    <tr>\n",
       "      <th>0</th>\n",
       "      <td>u missile defense agency navy successfully con...</td>\n",
       "      <td>u conduct missile defense test hawaii coast</td>\n",
       "      <td>u conduct missile defense test hawaii coast u ...</td>\n",
       "      <td>1</td>\n",
       "    </tr>\n",
       "    <tr>\n",
       "      <th>1</th>\n",
       "      <td>leading u attorney warned staffer many america...</td>\n",
       "      <td>podesta clinton twisted behavior smack acting ...</td>\n",
       "      <td>podesta clinton twisted behavior smack acting ...</td>\n",
       "      <td>0</td>\n",
       "    </tr>\n",
       "    <tr>\n",
       "      <th>2</th>\n",
       "      <td>spain friday issued arrest warrant sedition ch...</td>\n",
       "      <td>spain issue arrest warrant ousted catalan leader</td>\n",
       "      <td>spain issue arrest warrant ousted catalan lead...</td>\n",
       "      <td>1</td>\n",
       "    </tr>\n",
       "    <tr>\n",
       "      <th>3</th>\n",
       "      <td>lebanon cabinet meet tuesday first time since ...</td>\n",
       "      <td>lebanon cabinet meet tuesday first time since ...</td>\n",
       "      <td>lebanon cabinet meet tuesday first time since ...</td>\n",
       "      <td>1</td>\n",
       "    </tr>\n",
       "    <tr>\n",
       "      <th>4</th>\n",
       "      <td>need revolution overcoming fascism movement lo...</td>\n",
       "      <td>need revolution overcoming fascism movement love</td>\n",
       "      <td>need revolution overcoming fascism movement lo...</td>\n",
       "      <td>0</td>\n",
       "    </tr>\n",
       "    <tr>\n",
       "      <th>5</th>\n",
       "      <td>effectiveness pfizerbiontech covid vaccine fal...</td>\n",
       "      <td>pfizer covid vaccine effectiveness fall percen...</td>\n",
       "      <td>pfizer covid vaccine effectiveness fall percen...</td>\n",
       "      <td>1</td>\n",
       "    </tr>\n",
       "    <tr>\n",
       "      <th>6</th>\n",
       "      <td>home bombed martin luther king jr applied perm...</td>\n",
       "      <td>supreme court hear major second amendment case</td>\n",
       "      <td>supreme court hear major second amendment case...</td>\n",
       "      <td>1</td>\n",
       "    </tr>\n",
       "    <tr>\n",
       "      <th>7</th>\n",
       "      <td>key british hope moving talk trade tie europea...</td>\n",
       "      <td>eu say irish final say brexit border deadline ...</td>\n",
       "      <td>eu say irish final say brexit border deadline ...</td>\n",
       "      <td>1</td>\n",
       "    </tr>\n",
       "    <tr>\n",
       "      <th>8</th>\n",
       "      <td>president nicolas maduro predicted new foreign...</td>\n",
       "      <td>venezuela maduro upbeat talk opposition fear s...</td>\n",
       "      <td>venezuela maduro upbeat talk opposition fear s...</td>\n",
       "      <td>1</td>\n",
       "    </tr>\n",
       "    <tr>\n",
       "      <th>9</th>\n",
       "      <td>hillary spent million clinton foundation priva...</td>\n",
       "      <td>hillary spent million clinton foundation priva...</td>\n",
       "      <td>hillary spent million clinton foundation priva...</td>\n",
       "      <td>0</td>\n",
       "    </tr>\n",
       "  </tbody>\n",
       "</table>\n",
       "</div>"
      ],
      "text/plain": [
       "                                    text_transformed  \\\n",
       "0  u missile defense agency navy successfully con...   \n",
       "1  leading u attorney warned staffer many america...   \n",
       "2  spain friday issued arrest warrant sedition ch...   \n",
       "3  lebanon cabinet meet tuesday first time since ...   \n",
       "4  need revolution overcoming fascism movement lo...   \n",
       "5  effectiveness pfizerbiontech covid vaccine fal...   \n",
       "6  home bombed martin luther king jr applied perm...   \n",
       "7  key british hope moving talk trade tie europea...   \n",
       "8  president nicolas maduro predicted new foreign...   \n",
       "9  hillary spent million clinton foundation priva...   \n",
       "\n",
       "                                headline_transformed  \\\n",
       "0       u conduct missile defense test hawaii coast    \n",
       "1  podesta clinton twisted behavior smack acting ...   \n",
       "2  spain issue arrest warrant ousted catalan leader    \n",
       "3  lebanon cabinet meet tuesday first time since ...   \n",
       "4  need revolution overcoming fascism movement love    \n",
       "5  pfizer covid vaccine effectiveness fall percen...   \n",
       "6    supreme court hear major second amendment case    \n",
       "7  eu say irish final say brexit border deadline ...   \n",
       "8  venezuela maduro upbeat talk opposition fear s...   \n",
       "9  hillary spent million clinton foundation priva...   \n",
       "\n",
       "                                headline_text_merged  class  \n",
       "0  u conduct missile defense test hawaii coast u ...      1  \n",
       "1  podesta clinton twisted behavior smack acting ...      0  \n",
       "2  spain issue arrest warrant ousted catalan lead...      1  \n",
       "3  lebanon cabinet meet tuesday first time since ...      1  \n",
       "4  need revolution overcoming fascism movement lo...      0  \n",
       "5  pfizer covid vaccine effectiveness fall percen...      1  \n",
       "6  supreme court hear major second amendment case...      1  \n",
       "7  eu say irish final say brexit border deadline ...      1  \n",
       "8  venezuela maduro upbeat talk opposition fear s...      1  \n",
       "9  hillary spent million clinton foundation priva...      0  "
      ]
     },
     "execution_count": 10,
     "metadata": {},
     "output_type": "execute_result"
    }
   ],
   "source": [
    "df_merged.reset_index(inplace = True)\n",
    "df_merged.drop([\"index\"], axis = 1, inplace = True)\n",
    "df_merged.head(10)"
   ]
  },
  {
   "cell_type": "markdown",
   "metadata": {},
   "source": [
    "**X/y split**"
   ]
  },
  {
   "cell_type": "code",
   "execution_count": 11,
   "metadata": {},
   "outputs": [],
   "source": [
    "# lets test the article text and the headline and see which returns a better result\n",
    "\n",
    "X = df_merged['headline_text_merged']\n",
    "y = df_merged['class']"
   ]
  },
  {
   "cell_type": "markdown",
   "metadata": {},
   "source": [
    "**Testing some different ML algorithms**\n",
    "\n",
    "- we will try logistic regression, decision tree, random forest, KNN and support vector to classify our data.\n",
    "- before the classification stage we also need to transform our text into vectors (numeric representations of the text) so that the algorithm can process it.\n",
    "- i will use the TF IDF vectorizer.\n",
    "- TF stands for term frequency and is a measure of how frequently a term appears in a document.\n",
    "- IDF stands for inverse document frequency and is a measure of how important a term is in the corpus.\n",
    "- this process essentially turns the words into features for the algorithm to process."
   ]
  },
  {
   "cell_type": "code",
   "execution_count": 12,
   "metadata": {},
   "outputs": [],
   "source": [
    "\n",
    "def model_tester(X, y):\n",
    "\n",
    "    # x/y split\n",
    "\n",
    "    X_train, X_test, y_train, y_test = train_test_split(X, y, test_size=0.2, random_state=101)\n",
    "\n",
    "    # here are the 3 models we will try out\n",
    "\n",
    "    models = [\n",
    "        LogisticRegression(),\n",
    "        DecisionTreeClassifier(),\n",
    "        RandomForestClassifier(),\n",
    "        SVC(),\n",
    "        KNeighborsClassifier(n_neighbors=3)\n",
    "    ]\n",
    "\n",
    "    # we will use a pipeline here to quickly check all 3 models after vectorizing the X data\n",
    "    # vectorization maps the text to a corresponding vector of real numbers so that it can be processed by a ML algorithm\n",
    "\n",
    "    for model in models:\n",
    "        pipe = Pipeline(\n",
    "            steps=[\n",
    "            (\"tfidf\", TfidfVectorizer(lowercase=False, stop_words='english', decode_error='ignore')),\n",
    "            (\"classifier\", model),\n",
    "            ])\n",
    "        pipe.fit(X_train.values.astype('U'), y_train) \n",
    "        # print the scores for each model\n",
    "        print(model)\n",
    "        print(\"model score: %.3f\" % pipe.score(X_test.values.astype('U'), y_test))\n",
    "    \n",
    "\n"
   ]
  },
  {
   "cell_type": "code",
   "execution_count": 15,
   "metadata": {},
   "outputs": [
    {
     "name": "stdout",
     "output_type": "stream",
     "text": [
      "LogisticRegression()\n",
      "model score: 0.951\n",
      "DecisionTreeClassifier()\n",
      "model score: 0.889\n",
      "RandomForestClassifier()\n",
      "model score: 0.939\n",
      "SVC()\n",
      "model score: 0.958\n",
      "KNeighborsClassifier(n_neighbors=3)\n",
      "model score: 0.907\n"
     ]
    }
   ],
   "source": [
    "model_tester(X, y)"
   ]
  },
  {
   "cell_type": "markdown",
   "metadata": {},
   "source": [
    "**The best model is support vector machine**\n",
    "\n",
    "- The support vector machine algorithm tries to find a hyperplane in an N-dimensional space (N = the number of features) that distinctly classifies the data points.\n",
    "- Lets check the best parameters for this model using grid search"
   ]
  },
  {
   "cell_type": "code",
   "execution_count": 21,
   "metadata": {},
   "outputs": [],
   "source": [
    "# find best paramters for support vector machine\n",
    "def sv_best_params(X, y):\n",
    "    \n",
    "    X_train, X_test, y_train, y_test = train_test_split(X, y, test_size=0.2, random_state=101)\n",
    "    \n",
    "    pipe = Pipeline(\n",
    "        steps= [\n",
    "        (\"tfidf\", TfidfVectorizer(lowercase=False, stop_words='english', decode_error='ignore')),\n",
    "        (\"classifier\", SVC())\n",
    "            ])\n",
    "    pipe.fit(X_train.values.astype('U'), y_train) \n",
    "\n",
    "    params = { \n",
    "        'tfidf__ngram_range': [(1, 1), (1, 2)],\n",
    "        'classifier__C': [0.01, 0.1, 1, 10]\n",
    "    }\n",
    "        \n",
    "        \n",
    "    CV = GridSearchCV(pipe, params, cv= 2, n_jobs= 2, verbose=2)\n",
    "                  \n",
    "    CV.fit(X_train.values.astype('U'), y_train)  \n",
    "    print(CV.best_params_)    \n",
    "    print(CV.best_score_)"
   ]
  },
  {
   "cell_type": "code",
   "execution_count": 22,
   "metadata": {},
   "outputs": [
    {
     "name": "stdout",
     "output_type": "stream",
     "text": [
      "Fitting 2 folds for each of 8 candidates, totalling 16 fits\n",
      "{'classifier__C': 10, 'tfidf__ngram_range': (1, 1)}\n",
      "0.9536793035161512\n"
     ]
    }
   ],
   "source": [
    "sv_best_params(X,y)"
   ]
  },
  {
   "cell_type": "markdown",
   "metadata": {},
   "source": [
    "**Lets test the algorithm with some real and fake news texts and see what it predicts**\n",
    "\n",
    "- SVM was the most accurate model so I will use this one for the predictions in combination with the best hyperparamters returned via gridsearch"
   ]
  },
  {
   "cell_type": "code",
   "execution_count": 12,
   "metadata": {},
   "outputs": [
    {
     "data": {
      "text/plain": [
       "0.962"
      ]
     },
     "execution_count": 12,
     "metadata": {},
     "output_type": "execute_result"
    }
   ],
   "source": [
    "# support vector machine was the best model so I will use this one for the predictions\n",
    "\n",
    "X_train, X_test, y_train, y_test = train_test_split(X, y, test_size=0.2, random_state=101)\n",
    "\n",
    "tfidf = TfidfVectorizer(lowercase=False, stop_words='english', decode_error='ignore', ngram_range=(1,1))\n",
    "    \n",
    "vector = tfidf.fit(X_train.values.astype('U'))\n",
    "xv_train = vector.transform(X_train.values.astype('U'))\n",
    "xv_test = vector.transform(X_test.values.astype('U'))\n",
    "\n",
    "SV = SVC(random_state=101, C=10, kernel= 'linear')#'rbf\n",
    "\n",
    "SV.fit(xv_train, y_train)\n",
    "round(SV.score(xv_test, y_test),3)\n"
   ]
  },
  {
   "cell_type": "markdown",
   "metadata": {},
   "source": [
    "**Lets check some metrics before making some predictions**"
   ]
  },
  {
   "cell_type": "code",
   "execution_count": 17,
   "metadata": {},
   "outputs": [
    {
     "name": "stdout",
     "output_type": "stream",
     "text": [
      "              precision    recall  f1-score   support\n",
      "\n",
      "           0       0.97      0.96      0.96      1507\n",
      "           1       0.96      0.97      0.96      1446\n",
      "\n",
      "    accuracy                           0.96      2953\n",
      "   macro avg       0.96      0.96      0.96      2953\n",
      "weighted avg       0.96      0.96      0.96      2953\n",
      "\n"
     ]
    }
   ],
   "source": [
    "predictions = SV.predict(xv_test)\n",
    "print(metrics.classification_report(y_test, predictions))"
   ]
  },
  {
   "cell_type": "code",
   "execution_count": 18,
   "metadata": {},
   "outputs": [
    {
     "data": {
      "image/png": "[encoded data removed]",
      "text/plain": [
       "<Figure size 432x288 with 2 Axes>"
      ]
     },
     "metadata": {},
     "output_type": "display_data"
    }
   ],
   "source": [
    "sns.set_style('white')\n",
    "fig = plot_confusion_matrix(SV, xv_test, y_test, cmap='Blues')\n",
    "plt.title('SVC predictions')\n",
    "plt.show()"
   ]
  },
  {
   "cell_type": "code",
   "execution_count": 23,
   "metadata": {},
   "outputs": [
    {
     "data": {
      "text/plain": [
       "<sklearn.metrics._plot.roc_curve.RocCurveDisplay at 0x7fe0b24ab0d0>"
      ]
     },
     "execution_count": 23,
     "metadata": {},
     "output_type": "execute_result"
    },
    {
     "data": {
      "image/png": "[encoded data removed]",
      "text/plain": [
       "<Figure size 432x288 with 1 Axes>"
      ]
     },
     "metadata": {},
     "output_type": "display_data"
    }
   ],
   "source": [
    "plot_roc_curve(SV, xv_test, y_test)"
   ]
  },
  {
   "cell_type": "markdown",
   "metadata": {},
   "source": [
    "**Most important features**\n"
   ]
  },
  {
   "cell_type": "code",
   "execution_count": 32,
   "metadata": {},
   "outputs": [
    {
     "data": {
      "text/plain": [
       "array(['said', 'trump', 'clinton', 'state', 'people', 'election',\n",
       "       'hillary', 'government', 'president', 'new', 'year', 'party',\n",
       "       'russia', 'country', 'time', 'american', 'email', 'war', 'say',\n",
       "       'world'], dtype='<U129')"
      ]
     },
     "execution_count": 32,
     "metadata": {},
     "output_type": "execute_result"
    }
   ],
   "source": [
    "importance = np.argsort(np.asarray(xv_train.sum(axis=0)).ravel())[::-1]\n",
    "tfidf_feature_names = np.array(tfidf.get_feature_names())\n",
    "tfidf_feature_names[importance[:20]]"
   ]
  },
  {
   "cell_type": "code",
   "execution_count": 20,
   "metadata": {},
   "outputs": [],
   "source": [
    "# Function for removing the stopwords and lemmatizing the text \n",
    "# this is needed to process the input for the function to test unseen news articles\n",
    "\n",
    "def text_transform(text):\n",
    "\n",
    "    stopwords = nltk.corpus.stopwords.words('english')\n",
    "    lemma = WordNetLemmatizer()\n",
    "    #Defining empty string\n",
    "    string = \"\"\n",
    "    \n",
    "    for word in str(text).split():\n",
    "        if word not in stopwords:\n",
    "            string+=lemma.lemmatize(word)+\" \"\n",
    "    \n",
    "    return string"
   ]
  },
  {
   "cell_type": "code",
   "execution_count": 21,
   "metadata": {},
   "outputs": [],
   "source": [
    "def fake_or_real():\n",
    "\n",
    "    text = input(\"Enter text here\")\n",
    "\n",
    "    text_cleaned = text_transform(text)    \n",
    "\n",
    "    X = vector.transform([text_cleaned])\n",
    "   \n",
    "    predicted_class = SV.predict(X)\n",
    "    print(predicted_class)\n",
    "    \n",
    "    if predicted_class == 0:\n",
    "        print(text)\n",
    "        return  \"Prediction: Fake news!\"\n",
    "    else:\n",
    "        print(text)\n",
    "        return \"Prediction: real news!\"\n",
    "    "
   ]
  },
  {
   "cell_type": "markdown",
   "metadata": {},
   "source": [
    "Lets test the model on some articles from reuters"
   ]
  },
  {
   "cell_type": "code",
   "execution_count": 26,
   "metadata": {},
   "outputs": [
    {
     "name": "stdout",
     "output_type": "stream",
     "text": [
      "[1]\n",
      "Qualcomm Inc (QCOM.O) said on Tuesday it expects chip sales to Apple Inc (AAPL.O) to dwindle to a trickle in the coming years but predicted brisk growth in chips for autonomous cars and other connected devices, sending shares up 7.9% to a record high close of $181.81\n"
     ]
    },
    {
     "data": {
      "text/plain": [
       "'Prediction: real news!'"
      ]
     },
     "execution_count": 26,
     "metadata": {},
     "output_type": "execute_result"
    }
   ],
   "source": [
    "fake_or_real()"
   ]
  },
  {
   "cell_type": "code",
   "execution_count": 33,
   "metadata": {},
   "outputs": [
    {
     "name": "stdout",
     "output_type": "stream",
     "text": [
      "[1]\n",
      "The jury at Kyle Rittenhouse’s murder trial began deliberating for a third day Thursday with a new defense request for a mistrial hanging over the politically and racially fraught case.  The mistrial bid was sparked by a jury request Wednesday to re-watch video evidence, including drone footage that prosecutors used to try to undermine Rittenhouse’s self-defense claim and portray him as the instigator of the bloodshed in Kenosha in the summer of 2020.  Prosecutors said the video showed him pointing his rifle at protesters before the shooting erupted.  But the defense team said Wednesday that it had received an inferior copy of the potentially critical video from prosecutors, prompting its second mistrial motion in a week. Judge Bruce Schroeder agreed to let the jury re-watch the video and did not immediately rule on the mistrial request.  Rittenhouse attorney Corey Chirafisi said the defense would have approached things differently if it had received the better footage earlier in the case. Chirafisi said the mistrial request would be made “without prejudice,” meaning prosecutors could still retry Rittenhouse.\n"
     ]
    },
    {
     "data": {
      "text/plain": [
       "'Prediction: real news!'"
      ]
     },
     "execution_count": 33,
     "metadata": {},
     "output_type": "execute_result"
    }
   ],
   "source": [
    "fake_or_real()"
   ]
  },
  {
   "cell_type": "markdown",
   "metadata": {},
   "source": [
    "Lets try some articles from the financial times"
   ]
  },
  {
   "cell_type": "code",
   "execution_count": 38,
   "metadata": {},
   "outputs": [
    {
     "name": "stdout",
     "output_type": "stream",
     "text": [
      "[1]\n",
      "S jury has acquitted a teenager who killed two men during civil unrest in Kenosha, Wisconsin last year, in a case that has sharply divided public opinion on the right and left.  The jury handed down the verdict for Kyle Rittenhouse, 18, on the fourth day of deliberations. He was found not guilty on all five counts. After the jury’s verdict, Rittenhouse fell to the ground and then rose into the arms of one of his attorneys.  Jurors had considered five charges against Rittenhouse, the most serious being intentional homicide, which carries a mandatory life sentence. He also was charged with first-degree reckless homicide, first-degree attempted homicide and first-degree reckless endangerment of public safety. The judge dismissed a firearms charge shortly before the trial ended.  The prosecution had described Rittenhouse as an armed “chaos tourist” who travelled to Kenosha “looking for trouble”. His attorneys had argued that he acted in self-defence during the protests in Kenosha, portraying Rittenhouse as civic-minded youth who protected property against rioters.  Conservative commentators and Republican lawmakers have expressed support for Rittenhouse throughout the trial, while Democrats and progressives have said the case illustrated how the US criminal justice system fails to hold white defendants accountable.  Reaction was just as divided after the verdict. Ron Johnson, a Republican senator from Wisconsin, said he believed “justice has been served”.  Civil rights lawyer Ben Crump said it had shown “the profound cracks in our justice system — from the deep bias routinely and unabashedly displayed by the judge, to the apathy of the officers who witnessed Rittenhouse’s crimes and did nothing”.  Jerrold Nadler, the New York Democrat who chairs the House judiciary committee, called the verdict a “miscarriage of justice” that “sets a dangerous precedent”, and called for federal prosecutors in the justice department to review the case.\n"
     ]
    },
    {
     "data": {
      "text/plain": [
       "'Prediction: real news!'"
      ]
     },
     "execution_count": 38,
     "metadata": {},
     "output_type": "execute_result"
    }
   ],
   "source": [
    "fake_or_real()"
   ]
  },
  {
   "cell_type": "code",
   "execution_count": 39,
   "metadata": {},
   "outputs": [
    {
     "name": "stdout",
     "output_type": "stream",
     "text": [
      "[1]\n",
      "When Pascal Soriot unveiled AstraZeneca’s new vaccine strategy he could scarcely hide his exasperation. After thrusting his company into the frontline of the battle against Covid by developing a low-cost jab, the chief executive appeared frustrated he was not receiving the plaudits he might have expected.  “I know some people find it difficult to believe but we did actually start this project to help,” he told reporters last week.  The Anglo-Swedish drugmaker refused to initially make a profit on the 2bn vaccines it made with the University of Oxford, while rivals were pocketing billions. This year it has made a loss on the vaccine of 3 cents per share.  But setbacks, from delayed deliveries to a rare side effect and lower efficacy rates than mRNA jabs, have garnered the wrong kind of headlines. Last week, Soriot appeared to be steeling himself for a new wave of criticism after he announced the company would now make a “modest” profit in high and middle income countries, while keeping the vaccine non-profit for the poorest.  “We also said that at some stage in the future, we will transition [to] commercial orders but it will never be high priced because we want a vaccine to remain affordable to everybody around the world,” he said. “It has a future but it’s certainly not something that we see as a huge profit earner, that’s for sure.”  The condemnation swiftly followed: campaigners questioned why the company was switching to a strategy for “endemic Covid”, when the pandemic is clearly not over. Soriot said he had consulted experts before making the call but people familiar with the matter said that did not include the World Health Organization.\n"
     ]
    },
    {
     "data": {
      "text/plain": [
       "'Prediction: real news!'"
      ]
     },
     "execution_count": 39,
     "metadata": {},
     "output_type": "execute_result"
    }
   ],
   "source": [
    "fake_or_real()"
   ]
  },
  {
   "cell_type": "code",
   "execution_count": 41,
   "metadata": {},
   "outputs": [
    {
     "name": "stdout",
     "output_type": "stream",
     "text": [
      "[1]\n",
      "Dutch insurance veteran and Citigroup board member Alex Wynaendts is set to succeed Paul Achleitner as Deutsche Bank chair next year, the German lender announced late on Friday night, ending a months-long search in which its regulators had become increasingly impatient.  Wynaendts retired as chief executive officer at Dutch insurance company Aegon last year after a 12 years in the role.  Achleitner, a former Goldman Sachs banker and Allianz chief financial officer, joined Deutsche Bank’s board in 2012 and last year said that he would not be available for a third five-year term in 2022.  The 65-year-old Austrian has been the focus of repeated criticism from investors and analysts as Deutsche Bank has gone through a very tough patch over recent years. Its investment bank was hit hard by the fallout of the financial crisis and adjusted much later than its US peers to the new environment.  In late 2019, private equity investor Cerberus pushed for Achleitners exit, trying to replace him with former Morgan Stanley president Colm Kelleher.  Under Achleitner’s watch, Deutsche Bank generated total net losses of €12bn, embarked on five strategic rejigs and replaced its chief executives three times, In total, 17 executives departed early, with Deutsche paying them €83m for leaving.  The lender raised €19.5bn in fresh capital, spent several billion on settlements and fines, and suffered a 70 per cent drop in its share price. However, since the appointment of chief executive Christian Sewing in 2018 after an acrimonious boardroom battle, the lender stabilised and has returned to profit. Over the past three years, its share price has risen 32 per cent.  Since at least early 2021, the ECB has urged the lender to come forward with a clear succession plan. Europe’s top banking regulator told the bank privately that it wanted to be involved in the decision and was concerned that Deutsche would present the nomination as a fait accompli ahead of next year’s annual shareholder meeting.\n"
     ]
    },
    {
     "data": {
      "text/plain": [
       "'Prediction: real news!'"
      ]
     },
     "execution_count": 41,
     "metadata": {},
     "output_type": "execute_result"
    }
   ],
   "source": [
    "fake_or_real()"
   ]
  },
  {
   "cell_type": "code",
   "execution_count": 33,
   "metadata": {},
   "outputs": [
    {
     "name": "stdout",
     "output_type": "stream",
     "text": [
      "[1]\n",
      "Visa’s chief executive called Amazon’s decision to ban UK-issued credit cards from its platform “odd” and “unfortunate,” but said he expects the spat to be resolved.  “Clearly, we’re in a challenging negotiation,” Al Kelly told the Financial Times. “What’s different here is that Amazon unfortunately decided to take the negotiation challenges that we’re having public and oddly has chosen to threaten to punish consumers.”  Amazon on Wednesday notified customers it would stop accepting UK-issued Visa credit cards starting next year and offered affected customers £20 off their next purchase using an alternative payment method. The retailer also said it was weighing dropping Visa as the partner for its co-branded card in the US.   “This should not be considered a shock, as Amazon has been using every negotiating tactic available to bring down the cost of processing payments,” Autonomous analyst Kenneth Suchoski wrote in a note that said Amazon’s move would have little impact on Visa’s bottom line.    Amazon told UK customers it was acting because of Visa’s high fees. However, Mastercard and Visa set nearly identical transactions fees in the UK, according to payments firm Bambora.  “I find it quite odd that they’re claiming they did this because of the high cost of acceptance of these in the UK,” Kelly said. “It’s just absolutely inaccurate.”  Visa and Mastercard announced increases to the interchange rates applicable to payments between the UK and the EU after Brexit was formalised this year. For digital payments where a physical card is not present, the fees were raised to 1.15 per cent for debit transactions and 1.5 per cent for credit transactions from 0.2 per cent and 0.3 per cent, respectively.  A person familiar with Amazon’s position said the interchange fees were just one sticking point of several involving Visa. The person said rising costs were a concern before Brexit, and executives felt the payment provider was “not adding much value”.   Before Visa’s interchange fee increase in October, Amazon had moved to limit its use in markets including Singapore, where a 0.5 per cent surcharge for Visa credit transactions was introduced this year, and Australia. In both countries, vouchers were offered to customers who switched to different forms of payment.  Amazon considers it unreasonable for Visa to levy additional fees to guard against fraud in online sales, given the retailer’s reams of data and insight into consumers. “Amazon invests heavily to protect our customers from fraud and abuse,” a spokesperson said. “Yet Visa’s pricing remains high, while merchants remain responsible for fraud.”  The showdown with Amazon is the latest problem for Visa as it contends with mounting threats to its core business of routing payments.  “These are not the most happy days for Visa,” said Mizuho analyst Dan Dolev. “They’re getting attacked on multiple fronts.”  Visa and Mastercard have held an effective duopoly on global payments for decades because of the popularity of cards as a payment method. However, fintech competition and geopolitical pressures are threatening to weaken their influence.  Amazon’s move against Visa is only the latest example of merchants seeking to lower interchange fees. They cite studies showing the cost of processing transactions has fallen sharply but the fees they are charged have stayed the same. Payment networks and issuers enjoy profit margins of 30 to 50 per cent while retail margins are about 3 per cent, according to consultancy CMSPI.\n"
     ]
    },
    {
     "data": {
      "text/plain": [
       "'Prediction: real news!'"
      ]
     },
     "execution_count": 33,
     "metadata": {},
     "output_type": "execute_result"
    }
   ],
   "source": [
    "fake_or_real()"
   ]
  },
  {
   "cell_type": "code",
   "execution_count": 34,
   "metadata": {},
   "outputs": [
    {
     "name": "stdout",
     "output_type": "stream",
     "text": [
      "[1]\n",
      "The club’s board held an emergency meeting on Saturday night after a 4-1 defeat at Watford, the fifth defeat in seven Premier League matches.  Manchester United, owned by the US billionaire Glazer family, said on Sunday that Solskjaer had “left his role”.  “Ole will always be a legend at Manchester United and it is with regret that we have reached this difficult decision,” the club said. “While the past few weeks have been disappointing, they should not obscure all the work he has done over the past three years to rebuild the foundations for long-term success.”  Michael Carrick, coach and former player, will take charge for upcoming matches, with the club confirming that it will seek to appoint an interim manager until the end of the season.  The Norwegian was the club’s fourth manager since Sir Alex Ferguson retired in 2013, the last time the club won the Premier League.  Hopes were high for this season after the club spent heavily on new players, including big outlays on transfer fees and player wages to sign stars including Cristiano Ronaldo, Raphael Varane and Jadon Sancho.  In full-year results for the 12 months to June 30 2021, covering the last football season, the New York-listed group reported revenues of £494.1m.   With fans returning to stadiums following the pandemic, the club aims to return to pre-pandemic annual revenues of more than £600m, making it among the richest in world football.  Most of this income is stable. Its Old Trafford stadium is sold out every season through advanced season ticket and hospitality sales. Broadcasting deals are made centrally by the Premier League and Uefa, European football’s governing body.  The one area of financial volatility is whether the team qualifies for the Champions League, Europe’s most prestigious club contest in which €2bn is shared among participating clubs.  Saturday’s result left United in seventh in the Premier League table and at risk of missing out on next season’s continental contests.  Solskjaer is credited with restoring stability to the club after the sacking of José Mourinho in December 2018, finishing second in last season’s Premier League. But he has failed to win a trophy in his time as manager of England’s most successful club in domestic competitions.  Solskjaer also led United to the final of last season’s Europa League contest, but lost on penalties to Spanish side Villarreal.  “His place in the club’s history will always be secure, not just for his story as a player, but as a great man and a manager who gave us many great moments,” said Manchester United.\n"
     ]
    },
    {
     "data": {
      "text/plain": [
       "'Prediction: real news!'"
      ]
     },
     "execution_count": 34,
     "metadata": {},
     "output_type": "execute_result"
    }
   ],
   "source": [
    "fake_or_real()"
   ]
  },
  {
   "cell_type": "code",
   "execution_count": 35,
   "metadata": {},
   "outputs": [
    {
     "name": "stdout",
     "output_type": "stream",
     "text": [
      "[1]\n",
      "Joe Biden’s battle to pass a $1.75tn package to enhance the social safety net and combat climate change moves to the thorny terrain of the US Senate, after clearing the House of Representatives.  The House on Friday passed the sweeping Build Back Better bill, which includes subsidies for early childhood education, tax credits for families with children, an expansion of public healthcare for senior citizens and some $550bn in programmes to combat climate change.  The vote came just days after Biden signed into law a separate $1.2tn bipartisan infrastructure package that will fund repairs to bridges, roads, tunnels and other transport systems.  It was a significant achievement for a president who has been trying to regain momentum after months of declining approval ratings and a disappointing showing for his party in state and local elections this month.  “We will be telling our children and grandchildren that we were here this day,” Nancy Pelosi, the Democratic Speaker of the House, said after Friday’s vote.  But the Build Back Better bill faces an uncertain future in the Senate, where lawmakers are expected to wrangle over the package for several weeks. At the same time they are contending with the looming threat of a government shutdown, a potential federal default and the need to strike a deal to continue funding the US military. Chuck Schumer, the Senate’s top Democrat, has insisted all of the issues will be addressed — and Build Back Better will pass the upper chamber — by Christmas.  “The rubber is going to have to meet the road here. The House has added some things in, and it has come back to the Senate,” said Meghan Pennington, a former Democratic Senate aide now with the Washington advisory firm Hamilton Place Strategies. “It is show time for the Democratic leader [Schumer] to go to work.”  Build Back Better has already been through the Senate sausage-making machine once before, with the White House and Democratic congressional leaders engaged in lengthy negotiations with two senators — Joe Manchin of West Virginia and Kyrsten Sinema of Arizona — to establish a “framework” to satisfy their demands. Those talks resulted in the price tag for the package being slashed from the White House’s proposal of $3.5tn to the current version of $1.75tn.  Manchin and Sinema are the two most conservative Democrats in the upper chamber of Congress, and wield outsized influence because the Senate is split 50-50 between Democrats and Republicans, with the US vice-president Kamala Harris able to cast a tiebreaking vote. Given the Republican party is resolute in its objections to Build Back Better — which they say amounts to wasteful public spending at a time of rising inflation — the White House needs the support of all 50 Democratic senators if the bill is to become law using a procedure called reconciliation to bypass Senate filibuster rules.  Jen Psaki, White House press secretary, said senior administration officials had remained “in touch” with pivotal Democratic senators even as they focused on securing approval of the spending package in the House.  “We know that is the next important step here,” Psaki said. “And I’m sure the president will engage when [it’s] the right moment to do that with them as well.”  The House version of Build Back Better includes two provisions that are likely to hit road blocks in the upper chamber. One is a reversal of a Trump-era tax policy that led to higher income taxes for wealthy homeowners in states such as New York, New Jersey and California. The other is the introduction of four weeks of paid family and medical leave for all workers.  The tax changes, which would allow people to deduct up to $80,000 in state and local taxes — commonly referred to as Salt — from their federal income taxes, were demanded by House moderates including Josh Gottheimer and Mikie Sherrill of New Jersey, a state where Democrats performed poorly in state and local elections earlier this month and are already fretting about stemming losses in next year’s midterm elections, when control of both chambers of Congress are up for grabs.  But progressive Democrats say the changes are an unnecessary handout for the rich, and budget hawks are wary of how much the changes will cost the Treasury.  The shadow of rising consumer prices also looms large for the president. While Republicans have largely sought to pin the blame for higher inflation on Biden, members of his own party have also raised red flags, suggesting the president should do more to clamp down on consumer costs.  The paid leave provisions, meanwhile, were inserted into the legislation by Pelosi after a more ambitious proposal for 12 weeks of paid family and medical leave championed by Senator Kirsten Gillibrand of New York were stripped out of the framework after objections from Manchin. Unlike other western economies, the US does not guarantee paid time off work for new mothers. Manchin has said repeatedly he would only be open to supporting a scheme if it were structured like Social Security, in which everyone pays into it.  At the same time, senators from Bernie Sanders — who has pushed for the inclusion of an expansion of Medicare to cover dental and eyecare costs for senior citizens — and Ron Wyden — who wants to impose a new tax on billionaires — have suggested that they are committed to further negotiations on their own legislative priorities.  That sets the stage for several more weeks of negotiations that could spill over into the Christmas period. Yet Democrats insist that they will not walk away from the table without a deal.  “It will go on as long as it can possibly go on,” Pennington said. “But success is the only reasonable outcome.”  Any Senate agreement would need to be sent back to the House for yet another approval vote before Biden could sign the package into law — potentially opening up the Democrats to intraparty wrangling once more.  But Pelosi struck an optimistic note on Friday, saying she would work with the Senate “so that we have agreement when it comes back down [to the House]”.  “Ninety-some per cent of the bill was written together: House, Senate, White House,” she added. “There were some differences at the end, and we will deal with those as we go forward.”\n"
     ]
    },
    {
     "data": {
      "text/plain": [
       "'Prediction: real news!'"
      ]
     },
     "execution_count": 35,
     "metadata": {},
     "output_type": "execute_result"
    }
   ],
   "source": [
    "fake_or_real()"
   ]
  },
  {
   "cell_type": "code",
   "execution_count": 36,
   "metadata": {},
   "outputs": [
    {
     "name": "stdout",
     "output_type": "stream",
     "text": [
      "[1]\n",
      "The Netherlands faced a second night of riots on Saturday over the introduction of new restrictions to curb the spread of Covid-19, leading to dozens of arrests across the country, while protests broke out elsewhere in Europe after authorities imposed further measures to counter the virus.  Dutch authorities deployed mounted police, dogs and water cannon after protesters in three provinces set fires and threw fireworks, in the worst outburst of violence in the country since a full lockdown led to widespread disorder at the start of the year.  The protests were sparked by plans to restrict the use of the Covid pass to those who have either been vaccinated or have recovered from Covid-19. Previously it also covered people with a negative test result. A ban on fireworks for New Year’s Eve celebrations also roused anger.  In The Hague on Saturday night, five police officers were injured and seven people were arrested, according to an official statement. Police charged at protesters on horseback and one rioter threw a rock at a passing ambulance.  There were disturbances and at least 13 arrests in two towns in the southern province of Limburg, with unrest also reported in the northern province of Flevoland, the police said.  The latest unrest in the Netherlands began on Friday night in Rotterdam, where police opened fire on hundreds of rioting protesters. Authorities defended the use of force, with the city’s mayor, Ahmed Aboutaleb, blaming the crowds for an “an orgy of violence”.  Three people believed to have suffered gunshot wounds from police bullets remained in hospital on Sunday morning, according to a police statement.  The new restrictions are expected to last for an initial three-week period.  The Dutch curbs come as infection rates rise rapidly and healthcare systems face growing pressure across Europe. Protests against fresh restrictions broke out across the continent at the weekend as governments revived stringent measures to stem the spread of the virus.  In Austria, thousands of people took to the streets of the capital Vienna on Saturday night to protest against the introduction of a national lockdown and plans to make vaccination mandatory. Police put the number of demonstrators at 40,000.  Austrians will be asked to work from home and non-essential shops will shut until at least December 12. The measures will be reviewed in 10 days.  “The atmosphere became heated among some groups of demonstrators and resulted in repeated clashes with police. In front of the palace gate [Heldenplatz] police were forced to use pepper spray against aggressive activists,” the police said in a statement. They said about 1,300 officers from across Austria were brought in to assist.  Thousands also marched in Zagreb, the Croatian capital, against new vaccination mandates for health workers.  In Italy, hundreds of people took to the streets in Rome to protest against the introduction of a “green pass” required to access venues, workplaces and public transport.  In Slovakia, the country’s prime minister, Eduard Heger, announced a “lockdown for the unvaccinated” which is set to begin on Monday.\n"
     ]
    },
    {
     "data": {
      "text/plain": [
       "'Prediction: real news!'"
      ]
     },
     "execution_count": 36,
     "metadata": {},
     "output_type": "execute_result"
    }
   ],
   "source": [
    "fake_or_real()"
   ]
  },
  {
   "cell_type": "code",
   "execution_count": 46,
   "metadata": {},
   "outputs": [
    {
     "name": "stdout",
     "output_type": "stream",
     "text": [
      "[1]\n",
      "African-American turnout is key to US election result  Democrats at pains to avoid mistakes of 2016 when black voters came out in fewer numbers  A woman wears a mask with a message urging voter participation while she waits in line to enter a polling place on the first day of North Carolina’s in-person early voting for the general election in Durham on October 15 © Jonathan Drake/Reuters  In many parts of the American South, Sundays in October are synonymous with four words: souls to the polls.  In African-American churches in particular, there is a long history of congregants attending services, listening to sermons espousing civic engagement, and then driving — or in some cases, being driven by the busload — to polling stations to cast their ballots.  This year few churches are gathering in-person because of concerns about Covid-19. But civic organisations and Democratic groups, especially in key swing US states such as North Carolina, Georgia and Florida, say the pandemic has not deterred them from partnering with pastors and other community leaders to do everything they can to register African-Americans and get them to vote.  In the run-up to the 2018 midterm elections, Billy Michael Honor, who runs faith-based engagement for the New Georgia Project, a group set up by Democratic gubernatorial candidate Stacey Abrams to mobilise black voters, worked to get church leaders to encourage congregants to fill out mail-in ballots from their seats in the pews.   Now, with churches holding services virtually, Mr Honor has asked pastors to share their congregation membership lists, so he can check them against the state’s publicly available voter file. After reviewing the entries, he sends church leaders a list of which congregants to encourage to register and turn out to vote.  “Then they now know among their congregation who they need to call, text or reach out to encourage them to go out and vote, or who needs to get registered,” he explained. “That’s all I need to help a congregation become 100 per cent voting congregation. They ain’t got to have worship service. All I need is a list of names.”  The problem is we are in the middle of a pandemic that has disproportionately impacted voters of colour, and so none of us know what the final impact of that will be  Antjuan Seawright, Democratic consultant from South Carolina Democrats see the work of people such as Mr Honor as critical to their prospects in Tuesday’s US elections, saying African-American voters could be the key to their party taking back the White House and the Senate.  Four years ago, 91 cent of black voters cast their ballots for Hillary Clinton, compared with just 6 per cent who backed Donald Trump.  But black voter turnout nationwide fell for the first time in two decades in 2016, with just 59.6 per cent of eligible black voters casting their ballots, according to Pew. That compared with a record high 66.6 per cent turnout rate just four years earlier, in 2012, when Barack Obama stood for re-election.    Analysts say the fact that black voters stayed home in key battleground states such as Pennsylvania, Wisconsin and Michigan — which Mr Trump won by razor-thin margins of 44,000, 22,700 and 10,700 votes, respectively — probably cost Mrs Clinton an Electoral College victory.  “Black turnout is important for Democrats in particular because arguably, if Hillary Clinton had increased black voter turnout in cities like Philadelphia, Detroit and Milwaukee, she might have actually won those states, just given how narrow the margin was and also just given how low voter turnout was,” said Andra Gillespie, a political-science professor at Emory University and an expert on African-American politics.   Despite widespread concerns about voter suppression and intimidation tactics, there are early signs that this time might be different.  Tom Bonier, chief executive of TargetSmart, a Democratic data firm, said his statistical model shows that in six battleground states — Arizona, Florida, Georgia, North Carolina, Nevada and Texas — the number of black voters over the age of 65 who have voted early, either in-person or by mail, has already exceeded their overall turnout numbers from four years ago.  According to Hawkfish, a Democratic data firm backed by former New York mayor Michael Bloomberg, some 142,000 voters in Florida who have voted so far are either newly registered, or did not vote in the 2016 presidential election or 2018 midterms.   LaTosha Brown, cofounder of the Black Voters Matter Fund, talks to rapper Snoop Dogg on a voter registration tour in Los Angeles © Dean Anthony ll Antjuan Seawright, a Democratic consultant from Columbia, South Carolina — a traditionally Republican state where polls show Democrat Jaime Harrison, a black candidate, within striking distance of incumbent senator Lindsey Graham — said Democrats have been “very intentional” to avoid repeating the mistakes of four years ago, and sought to engage with voters both online and in person, where possible.  “The problem is we are in the middle of a pandemic that has disproportionately impacted voters of colour, and so none of us know what the final impact of that will be,” he said. “What I do know is the party and candidates, and our campaigns, are not taking anything for granted.”   LaTosha Brown is co-founder of the Black Voters Matter Fund, which seeks to galvanise black voters. She has spent recent weeks on a bus tour across more than a dozen US states, meeting black community groups, and educating people on how to vote, either by mail or in person.   Speaking this week on her way to Flint, Michigan — a city where more than half of the population is African-American — she predicted “high black voter turnout” across the country, on par with numbers last seen when Mr Obama was on the ticket.  “Black voters are very pragmatic,” she said. “There has been enough racist rhetoric that we have heard this year from President [Donald] Trump. There has been a tremendous amount of concern around the lack of leadership in Covid-19. And I think in light of this year . . . George Floyd and Breonna Taylor . . . black folks we are talking to are quite frankly fed up and want at least some kind of relief and change in this moment.”  But many activists agree that there is still more work to be done.  Data firms such as TargetSmart and Hawkfish have found that while a record number of black voters are casting their ballots early this year, they are still trailing their white and Hispanic counterparts in many parts of the country.  “We are encouraged by the turnout, but there is just more work to do,” said Adrianne Shropshire, executive director of BlackPAC, another group that works to mobilise black voters. Ms Shropshire said African-American voters have historically been more likely to vote in person, rather than by mail, and she expected more black voters to turn up at the polls on Tuesday.  “Folks just have not gotten to the polls yet, which is the reason why these last few days are going to be critical,” she said. “I think we are going to see a lot of these voters show up on election day.”\n"
     ]
    },
    {
     "data": {
      "text/plain": [
       "'Prediction: real news!'"
      ]
     },
     "execution_count": 46,
     "metadata": {},
     "output_type": "execute_result"
    }
   ],
   "source": [
    "fake_or_real()"
   ]
  },
  {
   "cell_type": "code",
   "execution_count": 47,
   "metadata": {},
   "outputs": [
    {
     "name": "stdout",
     "output_type": "stream",
     "text": [
      "[1]\n",
      "Emotional Clinton sees her dream of returning to the White House disappear  Candidate struggles to come to terms with second devastating defeat of her career  \tAn emotional Hillary Clinton said Donald Trump deserved “the chance to lead” after his election victory, but acknowledged to her stunned supporters that it was “painful” to see her dream of winning the White House slip through her hands.  In a speech in New York that she gave hours after conceding defeat, the Democratic candidate said the tradition of a stable t ransition of power to a new president now needed to be respected.  “We owe him [Mr Trump] an open mind and the chance to lead,” she said.  But Mr Trump’s victory, which shocked the Clinton campaign, has left the former secretary of state struggling to come to terms with the second devastating defeat of her political career, following the loss to President Barack Obama in the 2008 primaries. This time, however, there is no way back.  Having stymied the chances of the Bush family returning to the White House during the Republican primaries, Mr Trump has delivered what appeared to be a final and fatal blow to the ambitions of the Clintons.  The result has also damaged the legacy of Mr Obama and left Democrats pondering how they lost touch with so many who were considered their core voters in the industrial Mid-west.  Mrs Clinton will also have to live with the reality that not only did she lose the White House, but she did so to a political outsider whom she, Mr Obama and the entire Democratic party viewed as being uniquely unqualified for the presidency.  She had planned a victory party on Tuesday evening that was to have been held at the Javits Center in Manhattan, a building covered by a glass ceiling that would symbolise the election of the first female president. Instead, Mrs Clinton addressed an audience of supporters at a Manhattan hotel, many of whom were crying as she spoke, on Wednesday morning.  “To all the little girls watching, never doubt that you are valuable and powerful and deserving of every chance and opportunity in the world,” she said.   Recriminations are likely over the role of James Comey, FBI director, in the election outcome © EPA Instead of representing a historic breakthrough, Mrs Clinton’s candidacy never shook the impression that, having been a public figure for more than three decades, she was the representative of the status quo in a year when many voters demanded something different.  Democrats will take comfort in the fact that Mrs Clinton won the popular vote for the sixth time in seven elections — a point that her vice-presidential candidate Tim Kaine went out of his way to mention.  But there will also be recriminations about the role played in the election by James Comey, FBI director, who announced in late October that he was reopening an inquiry into emails connected to Mrs Clinton.  “The anger at the leaked emails and WikiLeaks became part of the story and powerful motivators,” said Stan Greenberg, a Democratic pollster who worked on Mr Clinton’s 1992 campaign. “It [Mr Trump’s victory] was a cry of pain from voters who were tired of elites not getting how big a struggle life is, and the corruption of money in politics.”   John Podesta walks from the podium after telling supporters it was not all over. Minutes later, Mrs Clinton phoned Mr Trump to concede © EPA Instead of Mrs Clinton giving a concession speech on Tuesday, John Podesta, her campaign chairman, went on stage at 2am to say that the election was not over, only for the candidate to then call Mr Trump minutes later to concede.  “I think she wasn’t ready to go out there,” said one person close to the Clintons, explaining why Mrs Clinton had decided to delay her speech.  Yet for some, the incident seemed to underline some of the fundamental problems and controversies that Mrs Clinton and aides have wrestled with during the campaign.  “He’s lying again,” one onlooker said, exasperated, as he watched Mr Podesta give his non-concession speech.  The election of Mr Trump is also a bitter blow to Mr Obama, who said at one stage during the campaign that it would be a “personal insult” if black voters did not turn out in large numbers to support Mrs Clinton.  As well as seeing major parts of his legacy threatened, Mr Obama will also face the indignity of handing over power to the figure who supported the “birther” movement that questioned whether the president was born in the US.  Speaking at the White House on Wednesday, Mr Obama promised to try to make the transition to a Trump administration as smooth as possible. He also said that “the country needs a sense of unity and inclusion and respect for our institutions,” adding that he hoped Mr Trump worked to achieve this.\n"
     ]
    },
    {
     "data": {
      "text/plain": [
       "'Prediction: real news!'"
      ]
     },
     "execution_count": 47,
     "metadata": {},
     "output_type": "execute_result"
    }
   ],
   "source": [
    "fake_or_real()"
   ]
  },
  {
   "cell_type": "markdown",
   "metadata": {},
   "source": [
    "The model has predicted all the articles from the FT correctly. "
   ]
  },
  {
   "cell_type": "markdown",
   "metadata": {},
   "source": [
    "Now let's try with some fake articles\n",
    "- These have been taken from the website realrawnews.com which has been identified as fake by the fact checking website snopes."
   ]
  },
  {
   "cell_type": "code",
   "execution_count": 37,
   "metadata": {},
   "outputs": [
    {
     "name": "stdout",
     "output_type": "stream",
     "text": [
      "[1]\n",
      "U.S. Special Forces arrested former President George W. Bush Saturday morning at his Crawford, Texas, ranch following a blistering firefight with Secret Service agents and private security contractors assigned to protect him. On Friday evening, a Special Forces “Alpha Detachment” stationed at Fort Campbell, Kentucky, received from U.S. Army Special Operations Command orders to infiltrate the ranch and arrest the 43rd president. SF were told to expect resistance because recent intelligence on the ranch showed that Bush had surrounded himself with armed private security contractors in addition to the trio of Secret Service agents that routinely patrolled the grounds. Transportation to the ranch was provided by the 160th Special Operations Aviation Regiment, nicknamed Night Stalkers, a group of highly skilled chopper pilots that conduct transport, attack, assault, and reconnaissance missions, at night, at low altitude, and on short notice. The choppers had to make 3 refueling stops to reach their destination. Under cover of darkness early Saturday morning, the choppers descended into a clearing near the southeast corner of Bush’s 1,600-acre ranch, far from the staff trailers and the main house where they hoped to find Bush sleeping. After offloading SF, the choppers ascended into the night to await a call for exfiltration. A military source familiar with the mission told Real Raw News that Special Operations Command had obtained detailed satellite imagery of the property as well as locations of trail cams that live-streamed to a communications bunker 100 yards from the main building.  “Intelligence estimated that Bush had 20 security contractors and 3 Secret Service on the property. The plan was to exploit blind spots in the surveillance cameras, ingress to the main building, subdue Bush’s personal guards, and drag him to the exfil point without alerting the larger security force. But something went horribly wrong,” our source said. Special Forces had approached to within 200 yards of the main house when all hell broke loose. Two open-top ATVs, each with a driver and 3 security personnel, sped out of the darkness and toward the encroaching SF unit, the headlights momentarily illuminating the soldiers as they separated into groups and dove for cover. Bush’s security unleashed a hailstorm of suppressive fire, wounding one soldier and killing another. While one SF group engaged the enemy, the other dashed toward the main house, hoping to capture Bush before he could be evacuated on his own private helicopter, which sat parked near the main structure.  “The battle turned in our favor quickly. SF took cover behind a rock wall and with the aid of NVGs shot out the tires on both vehicles and then killed or grievously wounded Bush’s security. But they knew there was still at least a dozen patrolling the property and they would’ve been alerted and on their way. Time was of the essence,” our source said. The second SF unit reached the main house just as 2 Secret Service agents emerged and began steering Bush, still in his pajamas, to an armored limousine parked alongside dense shrubbery. SF instructed them to halt and throw up their hands, but the agents wheeled around and drew weapons, only to be killed a second later. Somewhere on the property a deafening klaxon blared like an air raid siren. “They gagged and bagged Bush, then regrouped. They couldn’t make the exfil point, not with one KIA and a teammate with a sucking chest wound. They radioed for pickup where they stood. A pilot told them that enemy forces were mobilizing near the staff trailers, and they had only minutes to get out of there. The birds weren’t armed for combat; otherwise, they could’ve hosed down those trailers,” our source said. The choppers touched down only long enough to retrieve SF and their package, avoiding further conflict. Our source said that JAG and the Office of Military Commissions had long sought Bush’s arrest. He did not say why it waited so long or why it felt such an impetus to grab Bush Saturday morning. Bush, he said, has been charged with treason and is being held to account for the deaths of thousands of soldiers in Iraq and Afghanistan and for his role in masterminding 9/11, in addition to other crimes. “He will face a military tribunal,” our source said.\n"
     ]
    },
    {
     "data": {
      "text/plain": [
       "'Prediction: real news!'"
      ]
     },
     "execution_count": 37,
     "metadata": {},
     "output_type": "execute_result"
    }
   ],
   "source": [
    "fake_or_real()"
   ]
  },
  {
   "cell_type": "markdown",
   "metadata": {},
   "source": [
    "This is an incorrect prediction\n"
   ]
  },
  {
   "cell_type": "code",
   "execution_count": 38,
   "metadata": {},
   "outputs": [
    {
     "name": "stdout",
     "output_type": "stream",
     "text": [
      "[1]\n",
      "A military tribunal on Thursday convicted former Secretary of State Hillary Clinton on charges of murder, conspiracy to commit murder, accessory to murder, child trafficking, endangering a minor, treason, and sedition. The two male, one female panel of officers cast a unanimous verdict shortly after Vice Adm. John G. Hannink, who prosecuted the military’s case against Clinton, showcased his final witness for the prosecution, Clinton’s former strategist and lover, Huma Abedin. In exchange for leniency and a plea deal, Abedin testified she and Clinton had “shared” underage children with her estranged ex-husband, Anthony Weiner. Pressed to clarify her definition of the word “shared,” Abedin qualified her answer by saying they had “practiced” lewd and lascivious behavior on underprivileged minors Clinton had imported into the United States. “American children?” Vice Adm. Hannink asked. “Yes, but not primarily. They’re too easy to track. More often than not from poor countries,” Abedin replied. “Would you tell this tribunal how you appropriated these children?” Vice Adm. Hannink asked. “Hillary used her government credentials. She had carte blanche, as a Secretary of State, former Secretary of State and former First Lady. It was easy for her to bring orphaned children in from places like, say, Syria, Afghanistan, or Iraq. No one asked questions. No one to look for them,” Abedin replied callously. Asked to quantify their exploits, Abedin said she couldn’t count the number of underage boys and girls Clinton had brought to the United States under the pretense of providing them with a fruitful life, but she told the tribunal there had been “many,” most of whom were later “sold or donated” to influential members of the Clinton cabal. “Who are the people?” Vice Adm. Hannink asked. “We never knew, exactly. It’s not like Hillary peddled them herself. She had someone handle that, and I don’t know the person’s name,” Abedin replied. “And yet she still refuses to speak,” Vice Adm. Hannink observed. He asked the tribunal whether they had heard enough; that the military had presented overwhelming evidence of Clinton’s atrocities against the United States and humankind. Unlike a conventional criminal trial, he reminded the commission, a unanimous verdict was not needed to convict Clinton on any of the charges. A majority vote, he said, would satisfy justice. The tribunal arrived at a guilty verdict after deliberating only five minutes. They found Clinton guilty on all charges the military had laid out—the murders of Seth Rich, Vince Foster, and Supreme Court Justice Antonin Scalia; trafficking and abusing minors from Haiti and other third-world nations; conspiring to assassinate a presidential candidate. As she had throughout the tribunal, Clinton stayed eerily silent as the verdict was read and the officers recommended she receive the death penalty for her crimes. Vice Adm. Hannink asked Clinton if she had preference in how the military carried out her sentence, but still she refused to speak. “You refused counsel. You refused to defend yourself. This tribunal therefore decides that the defendant, detainee Hillary Rodham Clinton, be hanged by the neck until dead,” Vice Adm. Hannink said flatly. “The sentence will be carried out on April 26, after Taps.” Huma Abedin will face her own military tribunal, at a date yet to be decided, RRN has learned.\n"
     ]
    },
    {
     "data": {
      "text/plain": [
       "'Prediction: real news!'"
      ]
     },
     "execution_count": 38,
     "metadata": {},
     "output_type": "execute_result"
    }
   ],
   "source": [
    "fake_or_real()"
   ]
  },
  {
   "cell_type": "markdown",
   "metadata": {},
   "source": [
    "This is incorrectly indentified as real news"
   ]
  },
  {
   "cell_type": "code",
   "execution_count": 39,
   "metadata": {},
   "outputs": [
    {
     "name": "stdout",
     "output_type": "stream",
     "text": [
      "[0]\n",
      "Shamed California Governor Gavin Newsom had ulterior motives for living at his luxurious $4m estate instead of at the Governor’s Mansion, as is customary for governors of all 50 states, for the Marines who arrested him on 1 November returned to his Fair Oaks home and made a shocking discovery: a child pornography dungeon in the basement of the 7,500sq-foot home. A JAG source told RRN that a Marine reconnaissance team visited the estate on 2 November to “gather evidence” and ascertain whether Mrs. Newsom and the couple’s four children were still secreted in the panic room to which they had fled the morning of Newsom’s arrest. “The house appeared empty, and Marines couldn’t tell if the family was still locked in the safe room. They used thermal imaging and acoustic gear, but they still weren’t sure. And they didn’t want to breach the room with explosives and wound or kill the kids,” our source said. Then they hit pay dirt. While examining Newsome’s office, the Marines found a concealed door beneath Newsom’s $8,000 Jason Scott Castillo Desk, and the secret door opened into the unthinkable, a chamber with a king bed covered in stuffed animals and surrounded by video cameras. Several pair of children’s pajamas were strewn about the room. Also, the Marines recovered numerous SD and Compact Flash cards from a locked strongbox under the bed. They reportedly viewed a snippet that sickened their stomachs. It showed a young girl—not one of Newsome’s kids—performing oral sex on the tarnished governor. What makes the heinous crime even more vile is that Newsom has four pre-teen children: Montana Tessa, 12; Brooklynn Stacia, 8; Dutch William, 5; and Hunter, 10, whom Gavin and his wife Jennifer named in honor of Hunter Biden, according to friends of the couple. “The find will add to the charges against Gavin Newsom–if he survives. We have a lot on him, but he wasn’t on our pedophile radar until now” our source said. Newsom remains unconscious and intubated at a military medical center loyal to the “White Hat” movement.\n"
     ]
    },
    {
     "data": {
      "text/plain": [
       "'Prediction: Fake news!'"
      ]
     },
     "execution_count": 39,
     "metadata": {},
     "output_type": "execute_result"
    }
   ],
   "source": [
    "fake_or_real()"
   ]
  },
  {
   "cell_type": "markdown",
   "metadata": {},
   "source": [
    "This article was correctly identified!"
   ]
  },
  {
   "cell_type": "code",
   "execution_count": 40,
   "metadata": {},
   "outputs": [
    {
     "name": "stdout",
     "output_type": "stream",
     "text": [
      "[0]\n",
      "Disgraced politician, murderer, and sexual predator Andrew Cuomo was hanged at Guantanamo Bay early Tuesday morning for his role in perpetrating the global plandemic and callously killing thousands of senior citizens who, were it not for his actions, might still be alive today. At 6:00 a.m. the humiliated former governor ate his last meal, steak and eggs, after which GITMO security drove him to the southern edge of the installation where JAG and Office of Military Commission officers anxiously awaited his arrival. Predictively, Cuomo did not go gracefully into the night; the ineloquent, foul-mouthed, bovine Cuomo seemed to thrive on hurling insults at everyone he met that morning, from GITMO security to the Marines who drove him to the execution site, from Vice. Adm. Crandall to the anonymous hangman who slipped a braided noose around his neck. But his flippant obscenities only hastened his execution. “I spit on every one of you motherfuckers,” a petulant Cuomo said as his Marine guard pushed him to the gallows. Around the lethal apparatus stood an assembly of military brass loyal to the “White Hat” movement and one Republican governor whose name RRN has been asked to conceal. Rear Adm. Crandall stood front-and-center, gazing upward at Cuomo as the hangman tightened the noose around his bulky neck. “Having been found guilty, you’ve been sentenced to hang by the neck until dead. Do you wish Last Rites? I imagine it’s futile to ask if you wish to give a statement of contrition,” Rear Adm. Crandall addressed the condemned. Atop the platform, Cuomo beseeched and berated his executioners. “Here’s my statement: Fuck you, Crandall.” He slung “F” words liberally, profaning Rear Adm. Crandall’s wife, children, and mother, then turned his attention towards the others in attendance. “Fuck all of you.” “I guess that’s what we expected,” Rear Adm. Crandall said. “There’s more of me than there are of you, Crandall. Killing me won’t stop anything,” Cuomo barked. “We’ll see about that,” Rear Adm. Crandall said. The anonymous soldier standing beside Cuomo flipped a lever, and the concealed door beneath Cuomo’s feet swung open, dropping him until the rope went taught and snapped his neck. A Navy doctor on scene pronounced him dead, then put his body in a zippered polyurethane bag.\n"
     ]
    },
    {
     "data": {
      "text/plain": [
       "'Prediction: Fake news!'"
      ]
     },
     "execution_count": 40,
     "metadata": {},
     "output_type": "execute_result"
    }
   ],
   "source": [
    "fake_or_real()"
   ]
  },
  {
   "cell_type": "markdown",
   "metadata": {},
   "source": [
    "This one was also correctly identified"
   ]
  },
  {
   "cell_type": "code",
   "execution_count": 41,
   "metadata": {},
   "outputs": [
    {
     "name": "stdout",
     "output_type": "stream",
     "text": [
      "[0]\n",
      "Marc Mezvinsky’s testimony resumed Thursday morning, and his remarks helped slammed shut Chelsea Clinton’s proverbial coffin. Rear Adm. Crandall opened the day by asking Mezvinsky about the 3 Haitian children who were passengers in Chelsea’s rented Mercedes at the time of her arrest. “They were imported into the country some time ago; I don’t remember exactly when. They were meant to be gifts to a friend of the Clinton foundation,” Mezvinsky said. “Interesting vernacular you have there. You use the word ‘imported’ as if they were a crate of microchips or lettuce. I think the words ‘abducted’ and ‘smuggled’ are more appropriate, don’t you? Who was this friend?” Rear Adm. Crandall asked. Mezvinsky said he did not know. He claimed that he was to wait in the vehicle while Chelsea escorted the children to a hotel room in Rockport, Massachusetts. He also denied knowledge of the youngsters’ names, for Chelsea, like her mother, indecipherably scrambled proper names into anagrams to thwart attempts to track down smuggled children. “Was it common for you and the defendant to personally deliver smuggled kids into the hands of pedophiles? You’re both high-profile people. Isn’t that a bit…risky and stupid?” “It was rare, and she told me it was a special delivery. Besides, we had a get out of jail free card, like in the monopoly game,” Mezvinsky said. “Get out of jail free card? Could you expand on that?” asked Rear Adm. Crandall. “Say, for example, we got puled over by a state trooper, or even the feds, for whatever reason. They’d make one phone call and be told they’d have to release us, no questions asked,” Mezvinsky said. “Are you suggesting, Mr. Mezvinsky, that local law enforcement and the intelligence agencies are subservient to the Clintons?” Rear Adm. Crandall asked. “Absolutely,” Mezvinsky replied. “It seems the Delta Force operators who arrested you didn’t honor that get out of jail free card you had,” Rear Adm. Crandall said. “That was—unexpected,” Mezvinsky admitted. Rear Adm. Crandall wanted to know if Hillary Clinton knew the names of the thousands of children she and her family had sold to pedophiles, and the identities of the recipients. “She does,” Mezvinsky said. His admission caused Chelsea to launch into an inexorable rant against Mezvinsky, calling him a “spineless, sorry excuse of man, no backbone, no balls, piss-poor excuse of a husband. You keep your fucking mouth shut, that’s what you do, Marc.” Her outburst, Rear Adm. Crandall said, denoted a blatant contempt of courtroom civility, and he cautioned her to respect the court under threat of being gagged for the rest of the trial. “During your testimony on Tuesday, Mr. Mezvinsky, you stated you were responsible for destroying evidence of Clinton crimes. But that’s not entirely true, is it? In your deposition, you told JAG you had screenshotted spreadsheets containing thousands of, how shall I put this, anagrammed names of both smuggled children and their intended recipients, including dollar amounts they were to be sold for. Is that correct?” Rear Adm. Crandall asked. Mezvinsky nodded, saying he need “an insurance policy” against Clinton retaliation, in case they turned on him. Rear Adm. Crandall approached the 3 officers tasked with judging the military’s evidence on Clinton. He laid on the table a ream of paper, saying the documents, regardless of muddled names, conclusively proved that Chelsea Clinton had authorized the selling of children who had been smuggled into the United States from countries such as Haiti, Columbia, and the Ukraine. One recipient’s anagram–Tindus Komsovitz—appeared 11 times. Rear Adm. Crandall told the tribunal that U.S. Army Intelligence and Security Command at Ft. Meade had rigorously scrutinized the database and deduced that “Tindus Komsovitz” was really Facebook Co-Founder Dustin Moskovitz, a longtime friend of the Clintons who had donated millions of dollars to Hillary Clinton’s election campaigns. “I ask you, directly, Mr. Mezvinsky—did you and Chelsea Clinton sell children to Dustin Moskovitz?” Rivulets of tears streamed down Mezvinsky’s face. “I’m sorry, yes, him and so, so many others.” “And you’ll provide us the names you—” Rear Adm. Crandall started, but Chelsea rose to her feet and again lambasted her husband. “You’ll keep your fucking mouth shut,” Clinton blurted, her voice a witch’s cackle. Per Rear Adm. Crandall’s instructions, a pair of Marines gagged Clinton and dragged her from the chamber. Rear Adm. Crandall asked the panel whether it had heard enough, and the officers unanimously found Chelsea Clinton guilty of all charges and recommended she be executed for crimes against humanity and for destroying the lives of countless families. Rear Adm. Crandall, however, admitted to quandary—could the U.S. military execute Clinton given the absence of evidence that she was guilty of murdering an American citizen or committing treason as stipulated under the Insurrection Act of 1812, the U.S. Constitution, or the Patriot Act. Sentencing, Rear Adm. Crandall said, would commence “in days.” “She will either be hanged or spend life at GITMO,” Rear Adm. Crandall said.\n"
     ]
    },
    {
     "data": {
      "text/plain": [
       "'Prediction: Fake news!'"
      ]
     },
     "execution_count": 41,
     "metadata": {},
     "output_type": "execute_result"
    }
   ],
   "source": [
    "fake_or_real()"
   ]
  },
  {
   "cell_type": "code",
   "execution_count": 43,
   "metadata": {},
   "outputs": [
    {
     "name": "stdout",
     "output_type": "stream",
     "text": [
      "[1]\n",
      "Pilots of Southwest Airlines and other major U.S. carriers have good reason for resisting vaccination mandates. Their fellow pilots who had taken the controversial Covid-19 vaccine have been dropping dead on both domestic and international flights. Two weeks ago, Dr. Jane Ruby claimed on the Stew Peters Show that a Delta Airlines pilot died inflight, shortly after the pilot had received a second dose of the Covid-19 vaccination. The mainstream media, Delta, and the so-called fact-checking agencies quickly dismissed the claim, calling it false and unsubstantiated—mainly because the claimant did not supply the name of the pilot, the flight number, or the points of origin and destination for the flight. Nonetheless, Real Raw News felt the issue deserved further investigation. Although we cannot authenticate Dr. Ruby’s specific incident, we learned that at least two freshly vaccinated pilots had dropped dead midflight within weeks of having received a Covid-19 vaccination. An FAA whistleblower speaking under condition of anonymity told RRN that the Biden administration, the FAA, and the airlines are covering up the incidents because the airlines need ticket sales and because the administration wants to maintain the illusion that Covid-19 vaccines are safe and effective. According to him, two American Airline pilots in 14 days have perished in the cockpit.  On October 15, American Airlines Flight 2740, an Airbus A320, was enroute from Dallas/Fort Worth International Airport to Fort Meyers (RSW) when the unthinkable happened. As the plane began a gradual decent toward southwest Florida, the pilot in command (PIC) began convulsing and had a cardiac arrest. Fortunately, the aircraft was still on autopilot, giving the co-pilot time to evaluate the situation, unharness himself, pull the PIC from his seat and try to administer CPR. But his efforts were in vain. The co-pilot returned to his seat and squawked 7700, the international transponder code for “I have an emergency.” The plane landed safely, but the co-pilot was put on administrative leave for having left his seat and endangering the aircraft, our source said. “It was later determined that the PIC had a fatal heart attack caused by myocarditis, a known side effect of the Covid-19 vaccinations. He had received his second dose of the vaccine two weeks before that flight. His last full physical was three months prior, and his doctor had given him a clean bill of health,” our source said. The second fatality took place a week later, and it, too was a DFW departure. American Airlines Flight 971, an Airbus A321, departed DFW for LAX at 8:00 a.m. Midway through the flight, the co-pilot complained he had chest pains but chalked it up to having eaten a spicy meal before departure. He told the PIC it was indigestion. As the plane flew at 32,000 ft. over the New Mexico/Arizona state line, the co-pilot started convulsing and vomiting on the flight controls. At that point, the PIC contacted Air Traffic Control, requesting permission to swing around and make an emergency landing in Albuquerque, NM, but ATC, after apparently consulting American Airlines, denied the request and compelled the PIC to complete the flight to LAX. The co-pilot died in his chair, also from acute myocarditis. He had gotten his second vaccination—Pfizer—21 days ahead of that fateful flight. “The PIC was put under a gag order and told not to discuss the incident with anyone under threat of losing his job,” our source said. “There is a systematic effort going on right now to prevent the public from knowing about pilots getting very ill or very dead in the air. The airlines don’t want to lose money, and the administration doesn’t want the public to know the true dangers of the vaccine. I know for fact that Secretary of Transportation Pete Buttigieg ordered the airlines to classify incidents involving pilot deaths.” In closing, he added that he is aware of at least 12 non-fatal incidents involving pilots that had recently taken the jab. RRN needs reader support. We work had to deliver information the MSM doesn’t want made public. If you appreciate our content, please consider making a donation to the cause. Any amount helps.\n"
     ]
    },
    {
     "data": {
      "text/plain": [
       "'Prediction: real news!'"
      ]
     },
     "execution_count": 43,
     "metadata": {},
     "output_type": "execute_result"
    }
   ],
   "source": [
    "fake_or_real()"
   ]
  },
  {
   "cell_type": "markdown",
   "metadata": {},
   "source": [
    "This is incorrectly indentified."
   ]
  },
  {
   "cell_type": "code",
   "execution_count": 44,
   "metadata": {},
   "outputs": [
    {
     "name": "stdout",
     "output_type": "stream",
     "text": [
      "[0]\n",
      "Hillary Clinton Hanged at GITMO  Scrambled eggs with jalapeno peppers, and a strawberry milkshake. The last meal of the condemned. Hillary Rodham Clinton was hanged at Guantanamo Bay Monday night, her death the culmination of an operation that began on March 2 when U.S. Navy SEALs on Donald J. Trump’s authority arrested the disgraced politician at her Chappaqua, NY mansion. After a five-day tribunal at the world’s most infamous detention center, a three-officer panel found Clinton guilty of murder, accessory to murder, treason, child trafficking, and other high crimes. Clinton, who had refused counsel, had uttered nary a word throughout the proceedings, and had taken Vice Adm. John G. Hannink’s sentence of death with an unflinching gaze. The hanging took place at 9:05 p.m., at once after Taps, which marks the start of quiet hours on U.S. military bases across the globe. “The world is about to sleep quieter tonight,” Vice Adm. John G. Hannink said to a small assembly that included 3 Joint Chiefs of Staff and, notably, Donald J. Trump, who, garbed in his typical dark suit and crimson tie, had arrived at GITMO earlier in the day. Michael Pompeo and former NYC Mayor Rudy Giuliani flanked him, both men having played an integral role in amassing evidence against Clinton. Under military guard, a shackled Hillary Clinton was escorted from Camp Delta detention block to gallows made of steel latticework, with a downward swinging door beneath her feet, that the Army Corps of Engineers had erected in a clearing near Windward Point Lighthouse, on GITMO’s southern edge. Affixed to a steel beam was a rectangular box with five circular, red buttons protruding from the case. In front of each button stood a uniformed soldier. Atop the platform, another soldier slipped a braided noose around Clinton’s neck. Vice Adm. Hannink addressed the execution detail: “When I say ready, and not one moment before, you will poise your left index finger in front of the button. You will keep it hovered there until I say execute, and then you five must simultaneously press your button. Only one of the five buttons will trigger the door, and none of you will ever know which button that was. Do you understand these instructions?” “Yes, sir,” the five bellowed in unison. A chaplain and a physician climbed the 13 steps leading to the top of the platform and stood beside a soldier who was checking to ensure the noose was secure around Clinton’s neck. Below them, Vice Adm. Hannink asked if Clinton wanted last rites or had any final words. Clinton broke silence. “I’m Hillary Clinton, you can’t do this to me,” she said, her voice a witch’s cackle. “It’s already done,” Donald J. Trump shouted up at her. “Ready.” Vice Adm. Hannink nodded at the execution detail. After a moment’s pause, he gave the “execute” order, the soldiers pressed their buttons, and the grate beneath Clinton’s feet swung open. Her legs and feet, still shackled at the ankles, twitched a moment or two, then stopped. The rope was cut, and Clinton’s lifeless body lie sprawled in a damp patch of grass. The physician present checked her vitals and declared her dead. A confidential source involved in Trump’s mission to obliterate the Deep State said the overall mood was somber and melancholy; there was no celebration, no jubilation, just an atmosphere of contentedness, an acknowledgement that what had to be done, was done. The nature of her crimes overshadowed celebratory thought. But a four-decade reign of terror had come to an end. “As much as Trump hated her, this was purely business. He cares about the children who suffered at her hands more than he cares about what she did to him. Yes, her demise sends a signal to the Deep State. But Trump knows there are many more to go, and he won’t celebrate till the job is done,” our source said.\n"
     ]
    },
    {
     "data": {
      "text/plain": [
       "'Prediction: Fake news!'"
      ]
     },
     "execution_count": 44,
     "metadata": {},
     "output_type": "execute_result"
    }
   ],
   "source": [
    "fake_or_real()"
   ]
  },
  {
   "cell_type": "code",
   "execution_count": 45,
   "metadata": {},
   "outputs": [
    {
     "name": "stdout",
     "output_type": "stream",
     "text": [
      "[0]\n",
      "Trump Assassination Foiled, Deep State in Panic Mode!   UPDATE: WE HAVE JUST PUBLISHED A FOLLOW-UP TO THIS STORY: TRUMP ASSASINATION ATTEMPT — NEW DETAILS SUGGEST BIDEN/CIA DRONE On Tuesday morning, January 26, at approximately 3:00 am, a sniper’s bullet struck a panoramic casement window on the east wall of Trump’s bedroom at his Mar-a-Lago estate. The round might have slain Trump had he not recently replaced tempered glass with Blast Structures International’s bullet resistant glass, which, according to the company’s website, can stop anything less powerful than a .50 round. A confidential source within Trump’s inner circle told Real Raw News that Trump was asleep in bed, and, a light sleeper, was awakened by the “sharp crack” of the bullet striking glass. The round did not penetrate the glass, but caused a material-science dissipation fracture, or spiderweb pattern. The strike, our source said, triggered a silent alarm that instantly notified the Palm Beach Police Dept. and Trump’s Secret Service Detail, which sleeps in a guest house ten yards from the main building. Agents whisked Trump to safety, escorting him to a fortified saferoom, and said they’d coordinate with local authorities. But Trump demanded they call the Palm Beach Police Dept. and say it was a false alarm. “Trump was adamant no police get involved,” our source said. “He told his guys he wants to keep it in the family. No law enforcement. No media. He was very stern about keeping the media blind to the event. Trump made a phone call, and inside of thirty minutes, some heavy-hitting dudes who were definitely not Secret Service arrived at the estate,” our source said. With Trump safe, his private security fanned across the 20-acre estate searching for signs of intrusion, while the Secret Service detail began its own investigation as to how a would-be assassin got within shooting distance of one of the most secure residences in the world. At 7:00am a forensic ballistic expert from Quantico arrived at Mar-a-Lago and determined the bullet fragments were from a 7mm Remington Magnum round. He found himself amid an intractable dilemma, our source said. The round had been fired at a downward angle and, had it pierced glass, would have sizzled through Trump’s skull, but an attack on the east window meant one of two things. The sniper had taken the shot from either estate grounds, which lacks elevated terrain, or from somewhere above the Atlantic swell, a seemingly impossible feat. “Trump’s bedroom is 23 feet above ground level. Besides the main building, no structure on the property is higher. The ballistics guy figured the shot could only have been made by someone in a hovering helicopter two hundred yards or more off the coast. If true, that guy must have been the best marksman in the world. From a helicopter and at night. Crazy,” our source said. The concept of sniping from a helicopter seemed so unrealistic that RRL reached out to Marine Corps Staff Sgt. Hunter Bernius, a scout-sniper and instructor at the Marine Corps. School of Infantry in Geiger, North Carolina. Without mentioning the nature of our inquiry, we asked Staff Sgt. Bernius about the odds of successfully pulling off a 200-400 yard shot from a hovering chopper with little or no natural light. “Only with proper training specifically for that type of mission. To shoot precisely, the shooter has to account for aircraft vibration and wind speed and direction, all wind whipping up around him from blades spinning at 400rpm. Then there’s a dozen other variables. Takes months and months of training from a qualified instructor, and there’s still no guarantee. Aerial sniping is a skill all its own,” Staff Sgt. Bernius said. By noon, the Secret Service had discretely interviewed all persons on estate property, but no one reported having seen or heard a helicopter. According to our source, Trump’s people suspected the attack was carried out by the Deep State, to stop Trump from amassing incriminating evidence that, if released, could sink every Democrat from Joe Biden to the most junior member of the Democratic caucus. (For those people asking What about Melania? Where was Melania? Anyone who knows anything about the Trumps, knows they sleep in separate bedrooms.) This is a developing story.\n"
     ]
    },
    {
     "data": {
      "text/plain": [
       "'Prediction: Fake news!'"
      ]
     },
     "execution_count": 45,
     "metadata": {},
     "output_type": "execute_result"
    }
   ],
   "source": [
    "fake_or_real()"
   ]
  },
  {
   "cell_type": "markdown",
   "metadata": {},
   "source": [
    "This one is correctly identified.\n",
    "Overall 4/8 articles from this site were correctly identified.  \n",
    "\n",
    "The majority of the correctly identified fake news articles tested here mention hillary clinton or donald trump. The fake news data the model was trained on was from 2016 which indicates the model performs well on news stories related to the 2016 election but less so on contemporary articles.\n"
   ]
  }
 ],
 "metadata": {
  "interpreter": {
   "hash": "576841b4f7799d251ae57aad53f0bddb5c298a2c04b91f5151e4f2b208165af8"
  },
  "kernelspec": {
   "display_name": "Python 3.8.8 64-bit ('base': conda)",
   "language": "python",
   "name": "python3"
  },
  "language_info": {
   "codemirror_mode": {
    "name": "ipython",
    "version": 3
   },
   "file_extension": ".py",
   "mimetype": "text/x-python",
   "name": "python",
   "nbconvert_exporter": "python",
   "pygments_lexer": "ipython3",
   "version": "3.8.8"
  },
  "orig_nbformat": 4
 },
 "nbformat": 4,
 "nbformat_minor": 2
}
